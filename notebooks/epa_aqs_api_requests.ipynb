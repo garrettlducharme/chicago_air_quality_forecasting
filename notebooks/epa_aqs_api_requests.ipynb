{
 "cells": [
  {
   "cell_type": "markdown",
   "metadata": {},
   "source": [
    "In this notebook we'll be collecting data from the EPA AQS api (https://aqs.epa.gov/aqsweb/documents/data_api.html) for all of the available monitoring sites in Cook county. According to the wikipedia page for AQI values in the United States (https://en.wikipedia.org/wiki/Air_quality_index#United_States) can be based on a number of different measurements. Namely, the $O_3$ (8-hr and 1-hr), $PM_{2.5}$ (24-hr), $PM_{10}$ (24-hr), $CO$ (8-hr), $SO_2$ (1-hr and 24-hr), and $NO_2$ (1-hr) concentrations. The Wikipedia article has details for which values to use in certain scenarios for calculating AQI."
   ]
  },
  {
   "cell_type": "code",
   "execution_count": 9,
   "metadata": {},
   "outputs": [],
   "source": [
    "import numpy as np\n",
    "import pandas as pd\n",
    "import requests\n",
    "import json\n",
    "import matplotlib.pyplot as plt\n",
    "import time\n",
    "%matplotlib inline"
   ]
  },
  {
   "cell_type": "markdown",
   "metadata": {},
   "source": [
    "### Cook County Data"
   ]
  },
  {
   "cell_type": "code",
   "execution_count": 10,
   "metadata": {},
   "outputs": [],
   "source": [
    "# api access variables\n",
    "# state and county codes obtained from the list sample queries on the\n",
    "url_head = 'https://aqs.epa.gov/data/api'\n",
    "email = 'garrett.l.ducharme@gmail.com'\n",
    "with open('C:/Users/ducha/.api_keys/aqs.txt') as f:\n",
    "    key = json.load(f)[\"key\"]\n",
    "state = '17'\n",
    "county = '031'"
   ]
  },
  {
   "cell_type": "code",
   "execution_count": 11,
   "metadata": {},
   "outputs": [],
   "source": [
    "# Obtaining monitoring sites for cook county\n",
    "end_point = 'list/sitesByCounty'\n",
    "url = f'{url_head}/{end_point}?email={email}&key={key}&state={state}&county={county}'\n",
    "sites = requests.get(url)\n",
    "sites_df = pd.DataFrame(json.loads(sites.text)['Data'])\n",
    "sites_df.to_csv('./data/AQS_API/sites.csv')"
   ]
  },
  {
   "cell_type": "code",
   "execution_count": 12,
   "metadata": {},
   "outputs": [
    {
     "data": {
      "text/html": [
       "<div>\n",
       "<style scoped>\n",
       "    .dataframe tbody tr th:only-of-type {\n",
       "        vertical-align: middle;\n",
       "    }\n",
       "\n",
       "    .dataframe tbody tr th {\n",
       "        vertical-align: top;\n",
       "    }\n",
       "\n",
       "    .dataframe thead th {\n",
       "        text-align: right;\n",
       "    }\n",
       "</style>\n",
       "<table border=\"1\" class=\"dataframe\">\n",
       "  <thead>\n",
       "    <tr style=\"text-align: right;\">\n",
       "      <th></th>\n",
       "      <th>code</th>\n",
       "      <th>value_represented</th>\n",
       "    </tr>\n",
       "  </thead>\n",
       "  <tbody>\n",
       "    <tr>\n",
       "      <th>0</th>\n",
       "      <td>0001</td>\n",
       "      <td>VILLAGE GARAGE</td>\n",
       "    </tr>\n",
       "    <tr>\n",
       "      <th>13</th>\n",
       "      <td>0014</td>\n",
       "      <td>FARR HALL</td>\n",
       "    </tr>\n",
       "    <tr>\n",
       "      <th>21</th>\n",
       "      <td>0022</td>\n",
       "      <td>WASHINGTON HS</td>\n",
       "    </tr>\n",
       "    <tr>\n",
       "      <th>24</th>\n",
       "      <td>0026</td>\n",
       "      <td>CERMAK PUMP STATION</td>\n",
       "    </tr>\n",
       "    <tr>\n",
       "      <th>30</th>\n",
       "      <td>0032</td>\n",
       "      <td>SOUTH WATER FILTRATION PLANT</td>\n",
       "    </tr>\n",
       "    <tr>\n",
       "      <th>40</th>\n",
       "      <td>0042</td>\n",
       "      <td>SEARS TOWER</td>\n",
       "    </tr>\n",
       "    <tr>\n",
       "      <th>46</th>\n",
       "      <td>0050</td>\n",
       "      <td>SE POLICE STATION</td>\n",
       "    </tr>\n",
       "    <tr>\n",
       "      <th>48</th>\n",
       "      <td>0052</td>\n",
       "      <td>MAYFAIR PUMP STATION</td>\n",
       "    </tr>\n",
       "    <tr>\n",
       "      <th>53</th>\n",
       "      <td>0057</td>\n",
       "      <td>SPRINGFIELD PUMP STATION</td>\n",
       "    </tr>\n",
       "    <tr>\n",
       "      <th>56</th>\n",
       "      <td>0060</td>\n",
       "      <td>CARVER HS</td>\n",
       "    </tr>\n",
       "    <tr>\n",
       "      <th>58</th>\n",
       "      <td>0063</td>\n",
       "      <td>CTA BUILDING</td>\n",
       "    </tr>\n",
       "    <tr>\n",
       "      <th>59</th>\n",
       "      <td>0064</td>\n",
       "      <td>UNIVERSITY OF CHICAGO</td>\n",
       "    </tr>\n",
       "    <tr>\n",
       "      <th>65</th>\n",
       "      <td>0072</td>\n",
       "      <td>JARDINE WATER PLANT</td>\n",
       "    </tr>\n",
       "    <tr>\n",
       "      <th>66</th>\n",
       "      <td>0073</td>\n",
       "      <td>MONITOR LOCATED 9 M FROM NORTH EDGE AND 8 M FR...</td>\n",
       "    </tr>\n",
       "    <tr>\n",
       "      <th>67</th>\n",
       "      <td>0074</td>\n",
       "      <td>SAMPLER LOCATED AT SE CORNER OF BUILDING</td>\n",
       "    </tr>\n",
       "    <tr>\n",
       "      <th>68</th>\n",
       "      <td>0075</td>\n",
       "      <td>PROBE LOCATED 39 M FROM S EDGE AND 2 M FROM E ...</td>\n",
       "    </tr>\n",
       "    <tr>\n",
       "      <th>69</th>\n",
       "      <td>0076</td>\n",
       "      <td>COM ED MAINTENANCE BLDG</td>\n",
       "    </tr>\n",
       "    <tr>\n",
       "      <th>70</th>\n",
       "      <td>0110</td>\n",
       "      <td>PEREZ ELEMENTRY SCHOOL</td>\n",
       "    </tr>\n",
       "    <tr>\n",
       "      <th>71</th>\n",
       "      <td>0113</td>\n",
       "      <td>ArcelorMittal Steel</td>\n",
       "    </tr>\n",
       "    <tr>\n",
       "      <th>72</th>\n",
       "      <td>0119</td>\n",
       "      <td>Kingery Near Road #1</td>\n",
       "    </tr>\n",
       "    <tr>\n",
       "      <th>73</th>\n",
       "      <td>0210</td>\n",
       "      <td>BENITO JUAREZ HIGH SCHOOL</td>\n",
       "    </tr>\n",
       "    <tr>\n",
       "      <th>74</th>\n",
       "      <td>0219</td>\n",
       "      <td>Kennedy Near Road 2</td>\n",
       "    </tr>\n",
       "    <tr>\n",
       "      <th>80</th>\n",
       "      <td>1003</td>\n",
       "      <td>TAFT HS</td>\n",
       "    </tr>\n",
       "    <tr>\n",
       "      <th>87</th>\n",
       "      <td>1016</td>\n",
       "      <td>VILLAGE HALL</td>\n",
       "    </tr>\n",
       "    <tr>\n",
       "      <th>89</th>\n",
       "      <td>1018</td>\n",
       "      <td>FIRESTATION</td>\n",
       "    </tr>\n",
       "    <tr>\n",
       "      <th>90</th>\n",
       "      <td>1019</td>\n",
       "      <td>ROOF OF MAIN SCHOOL BLDG, 19 FT FROM W EDGE AN...</td>\n",
       "    </tr>\n",
       "    <tr>\n",
       "      <th>98</th>\n",
       "      <td>1601</td>\n",
       "      <td>COOK COUNTY TRAILER</td>\n",
       "    </tr>\n",
       "    <tr>\n",
       "      <th>101</th>\n",
       "      <td>1901</td>\n",
       "      <td>BUILDING S OF GYM, 11 FT FROM E EDGE AND 26 FT...</td>\n",
       "    </tr>\n",
       "    <tr>\n",
       "      <th>102</th>\n",
       "      <td>2001</td>\n",
       "      <td>EISENHOWER HS</td>\n",
       "    </tr>\n",
       "    <tr>\n",
       "      <th>123</th>\n",
       "      <td>3103</td>\n",
       "      <td>IEPA TRAILER</td>\n",
       "    </tr>\n",
       "    <tr>\n",
       "      <th>125</th>\n",
       "      <td>3301</td>\n",
       "      <td>GRAVES ES</td>\n",
       "    </tr>\n",
       "    <tr>\n",
       "      <th>131</th>\n",
       "      <td>4002</td>\n",
       "      <td>COOK COUNTY TRAILER</td>\n",
       "    </tr>\n",
       "    <tr>\n",
       "      <th>135</th>\n",
       "      <td>4006</td>\n",
       "      <td>PROBE LOCATED ON NORTH EDGE OF UPPER ROOF, 96 ...</td>\n",
       "    </tr>\n",
       "    <tr>\n",
       "      <th>136</th>\n",
       "      <td>4007</td>\n",
       "      <td>REGIONAL OFFICE BUILDING</td>\n",
       "    </tr>\n",
       "    <tr>\n",
       "      <th>137</th>\n",
       "      <td>4101</td>\n",
       "      <td>HOFFMAN ESTATES HS</td>\n",
       "    </tr>\n",
       "    <tr>\n",
       "      <th>138</th>\n",
       "      <td>4201</td>\n",
       "      <td>NORTHBROOK WATER PLANT</td>\n",
       "    </tr>\n",
       "    <tr>\n",
       "      <th>142</th>\n",
       "      <td>5501</td>\n",
       "      <td>Saint Josaphat School</td>\n",
       "    </tr>\n",
       "    <tr>\n",
       "      <th>145</th>\n",
       "      <td>6003</td>\n",
       "      <td>COOK COUNTY COURT COMPLEX</td>\n",
       "    </tr>\n",
       "    <tr>\n",
       "      <th>146</th>\n",
       "      <td>6004</td>\n",
       "      <td>COM ED MAINTENANCE AREA</td>\n",
       "    </tr>\n",
       "    <tr>\n",
       "      <th>147</th>\n",
       "      <td>6005</td>\n",
       "      <td>LIBERTY SCHOOL</td>\n",
       "    </tr>\n",
       "    <tr>\n",
       "      <th>148</th>\n",
       "      <td>6006</td>\n",
       "      <td>4TH DISTRICT COURT</td>\n",
       "    </tr>\n",
       "    <tr>\n",
       "      <th>150</th>\n",
       "      <td>7002</td>\n",
       "      <td>WATER PLANT</td>\n",
       "    </tr>\n",
       "    <tr>\n",
       "      <th>154</th>\n",
       "      <td>8003</td>\n",
       "      <td>COOK COUNTY TRAILER</td>\n",
       "    </tr>\n",
       "  </tbody>\n",
       "</table>\n",
       "</div>"
      ],
      "text/plain": [
       "     code                                  value_represented\n",
       "0    0001                                     VILLAGE GARAGE\n",
       "13   0014                                          FARR HALL\n",
       "21   0022                                      WASHINGTON HS\n",
       "24   0026                                CERMAK PUMP STATION\n",
       "30   0032                       SOUTH WATER FILTRATION PLANT\n",
       "40   0042                                        SEARS TOWER\n",
       "46   0050                                  SE POLICE STATION\n",
       "48   0052                               MAYFAIR PUMP STATION\n",
       "53   0057                           SPRINGFIELD PUMP STATION\n",
       "56   0060                                          CARVER HS\n",
       "58   0063                                       CTA BUILDING\n",
       "59   0064                              UNIVERSITY OF CHICAGO\n",
       "65   0072                                JARDINE WATER PLANT\n",
       "66   0073  MONITOR LOCATED 9 M FROM NORTH EDGE AND 8 M FR...\n",
       "67   0074           SAMPLER LOCATED AT SE CORNER OF BUILDING\n",
       "68   0075  PROBE LOCATED 39 M FROM S EDGE AND 2 M FROM E ...\n",
       "69   0076                            COM ED MAINTENANCE BLDG\n",
       "70   0110                             PEREZ ELEMENTRY SCHOOL\n",
       "71   0113                                ArcelorMittal Steel\n",
       "72   0119                               Kingery Near Road #1\n",
       "73   0210                          BENITO JUAREZ HIGH SCHOOL\n",
       "74   0219                                Kennedy Near Road 2\n",
       "80   1003                                            TAFT HS\n",
       "87   1016                                       VILLAGE HALL\n",
       "89   1018                                        FIRESTATION\n",
       "90   1019  ROOF OF MAIN SCHOOL BLDG, 19 FT FROM W EDGE AN...\n",
       "98   1601                                COOK COUNTY TRAILER\n",
       "101  1901  BUILDING S OF GYM, 11 FT FROM E EDGE AND 26 FT...\n",
       "102  2001                                      EISENHOWER HS\n",
       "123  3103                                       IEPA TRAILER\n",
       "125  3301                                          GRAVES ES\n",
       "131  4002                                COOK COUNTY TRAILER\n",
       "135  4006  PROBE LOCATED ON NORTH EDGE OF UPPER ROOF, 96 ...\n",
       "136  4007                           REGIONAL OFFICE BUILDING\n",
       "137  4101                                 HOFFMAN ESTATES HS\n",
       "138  4201                             NORTHBROOK WATER PLANT\n",
       "142  5501                              Saint Josaphat School\n",
       "145  6003                          COOK COUNTY COURT COMPLEX\n",
       "146  6004                            COM ED MAINTENANCE AREA\n",
       "147  6005                                     LIBERTY SCHOOL\n",
       "148  6006                                 4TH DISTRICT COURT\n",
       "150  7002                                        WATER PLANT\n",
       "154  8003                                COOK COUNTY TRAILER"
      ]
     },
     "execution_count": 12,
     "metadata": {},
     "output_type": "execute_result"
    }
   ],
   "source": [
    "sites_df[~sites_df.value_represented.isna()]"
   ]
  },
  {
   "cell_type": "code",
   "execution_count": 13,
   "metadata": {},
   "outputs": [],
   "source": [
    "# Obtaining the valid parameter list\n",
    "end_point = 'list/classes'\n",
    "url = f'{url_head}/{end_point}?email={email}&key={key}'\n",
    "params = requests.get(url)\n",
    "params_df = pd.DataFrame(json.loads(params.text)['Data'])\n",
    "params_df.to_csv('./data/AQS_API/params.csv')"
   ]
  },
  {
   "cell_type": "markdown",
   "metadata": {},
   "source": [
    "All of the polutants that we need to calculate the AQI are contained within the 'CRITERIA' class."
   ]
  },
  {
   "cell_type": "code",
   "execution_count": 14,
   "metadata": {},
   "outputs": [],
   "source": [
    "# Obtain all parameters in the criteria class\n",
    "end_point = 'list/parametersByClass'\n",
    "pc = 'CRITERIA'\n",
    "url = f'{url_head}/{end_point}?email={email}&key={key}&pc={pc}'\n",
    "criteria = requests.get(url)\n",
    "criteria_df = pd.DataFrame(json.loads(criteria.text)['Data'])\n",
    "criteria_df.to_csv('./data/AQS_API/criteria.csv')"
   ]
  },
  {
   "cell_type": "markdown",
   "metadata": {},
   "source": [
    "All meteorological data is contained in the 'MET' class."
   ]
  },
  {
   "cell_type": "code",
   "execution_count": 15,
   "metadata": {},
   "outputs": [],
   "source": [
    "end_point = 'list/parametersByClass'\n",
    "pc = 'MET'\n",
    "url = f'{url_head}/{end_point}?email={email}&key={key}&pc={pc}'\n",
    "met_params = requests.get(url)\n",
    "met_df = pd.DataFrame(json.loads(met_params.text)['Data'])\n",
    "met_df.to_csv('./data/AQS_API/met_params.csv')"
   ]
  },
  {
   "cell_type": "markdown",
   "metadata": {},
   "source": [
    "We'll now start obtaining the criteria data and the meteorological data and storing it for future analysis."
   ]
  },
  {
   "cell_type": "code",
   "execution_count": 16,
   "metadata": {},
   "outputs": [],
   "source": [
    "# Getting the PM 2.5 data for all sites in Cook county for 2019\n",
    "param = '88101'\n",
    "bdate = '20190101'\n",
    "edate = '20191231'\n",
    "end_point = 'sampleData/byCounty'\n",
    "url = f'{url_head}/{end_point}?email={email}&key={key}&param={param}' \\\n",
    "      f'&bdate={bdate}&edate={edate}&state={state}&county={county}'\n",
    "county_resp = requests.get(url)"
   ]
  },
  {
   "cell_type": "code",
   "execution_count": 17,
   "metadata": {},
   "outputs": [
    {
     "data": {
      "text/plain": [
       "HOURLY            24864\n",
       "EVERY 3RD DAY       780\n",
       "EVERY 6TH DAY       276\n",
       "EVERY 12TH DAY      130\n",
       "Name: sample_frequency, dtype: int64"
      ]
     },
     "execution_count": 17,
     "metadata": {},
     "output_type": "execute_result"
    }
   ],
   "source": [
    "county_p25_df = pd.DataFrame(json.loads(county_resp.text)['Data'])\n",
    "# Keeping only hourly measurements\n",
    "county_p25_df['sample_frequency'].value_counts()"
   ]
  },
  {
   "cell_type": "code",
   "execution_count": 18,
   "metadata": {},
   "outputs": [
    {
     "name": "stdout",
     "output_type": "stream",
     "text": [
      "Index(['cbsa_code', 'county', 'county_code', 'date_gmt', 'date_local',\n",
      "       'date_of_last_change', 'datum', 'detection_limit', 'latitude',\n",
      "       'longitude', 'method', 'method_code', 'method_type', 'parameter',\n",
      "       'parameter_code', 'poc', 'qualifier', 'sample_duration',\n",
      "       'sample_frequency', 'sample_measurement', 'site_number', 'state',\n",
      "       'state_code', 'time_gmt', 'time_local', 'uncertainty',\n",
      "       'units_of_measure'],\n",
      "      dtype='object')\n"
     ]
    },
    {
     "data": {
      "text/html": [
       "<div>\n",
       "<style scoped>\n",
       "    .dataframe tbody tr th:only-of-type {\n",
       "        vertical-align: middle;\n",
       "    }\n",
       "\n",
       "    .dataframe tbody tr th {\n",
       "        vertical-align: top;\n",
       "    }\n",
       "\n",
       "    .dataframe thead th {\n",
       "        text-align: right;\n",
       "    }\n",
       "</style>\n",
       "<table border=\"1\" class=\"dataframe\">\n",
       "  <thead>\n",
       "    <tr style=\"text-align: right;\">\n",
       "      <th></th>\n",
       "      <th>cbsa_code</th>\n",
       "      <th>county</th>\n",
       "      <th>county_code</th>\n",
       "      <th>date_gmt</th>\n",
       "      <th>date_local</th>\n",
       "      <th>date_of_last_change</th>\n",
       "      <th>datum</th>\n",
       "      <th>detection_limit</th>\n",
       "      <th>latitude</th>\n",
       "      <th>longitude</th>\n",
       "      <th>...</th>\n",
       "      <th>sample_duration</th>\n",
       "      <th>sample_frequency</th>\n",
       "      <th>sample_measurement</th>\n",
       "      <th>site_number</th>\n",
       "      <th>state</th>\n",
       "      <th>state_code</th>\n",
       "      <th>time_gmt</th>\n",
       "      <th>time_local</th>\n",
       "      <th>uncertainty</th>\n",
       "      <th>units_of_measure</th>\n",
       "    </tr>\n",
       "  </thead>\n",
       "  <tbody>\n",
       "    <tr>\n",
       "      <th>0</th>\n",
       "      <td>16980</td>\n",
       "      <td>Cook</td>\n",
       "      <td>031</td>\n",
       "      <td>2019-01-03</td>\n",
       "      <td>2019-01-03</td>\n",
       "      <td>2019-03-12</td>\n",
       "      <td>WGS84</td>\n",
       "      <td>2.0</td>\n",
       "      <td>41.965193</td>\n",
       "      <td>-87.876265</td>\n",
       "      <td>...</td>\n",
       "      <td>24 HOUR</td>\n",
       "      <td>EVERY 3RD DAY</td>\n",
       "      <td>11.9</td>\n",
       "      <td>3103</td>\n",
       "      <td>Illinois</td>\n",
       "      <td>17</td>\n",
       "      <td>06:00</td>\n",
       "      <td>00:00</td>\n",
       "      <td>None</td>\n",
       "      <td>Micrograms/cubic meter (LC)</td>\n",
       "    </tr>\n",
       "    <tr>\n",
       "      <th>1</th>\n",
       "      <td>16980</td>\n",
       "      <td>Cook</td>\n",
       "      <td>031</td>\n",
       "      <td>2019-01-06</td>\n",
       "      <td>2019-01-06</td>\n",
       "      <td>2019-03-12</td>\n",
       "      <td>WGS84</td>\n",
       "      <td>2.0</td>\n",
       "      <td>41.965193</td>\n",
       "      <td>-87.876265</td>\n",
       "      <td>...</td>\n",
       "      <td>24 HOUR</td>\n",
       "      <td>EVERY 3RD DAY</td>\n",
       "      <td>5.3</td>\n",
       "      <td>3103</td>\n",
       "      <td>Illinois</td>\n",
       "      <td>17</td>\n",
       "      <td>06:00</td>\n",
       "      <td>00:00</td>\n",
       "      <td>None</td>\n",
       "      <td>Micrograms/cubic meter (LC)</td>\n",
       "    </tr>\n",
       "    <tr>\n",
       "      <th>2</th>\n",
       "      <td>16980</td>\n",
       "      <td>Cook</td>\n",
       "      <td>031</td>\n",
       "      <td>2019-01-09</td>\n",
       "      <td>2019-01-09</td>\n",
       "      <td>2019-03-12</td>\n",
       "      <td>WGS84</td>\n",
       "      <td>2.0</td>\n",
       "      <td>41.965193</td>\n",
       "      <td>-87.876265</td>\n",
       "      <td>...</td>\n",
       "      <td>24 HOUR</td>\n",
       "      <td>EVERY 3RD DAY</td>\n",
       "      <td>6.9</td>\n",
       "      <td>3103</td>\n",
       "      <td>Illinois</td>\n",
       "      <td>17</td>\n",
       "      <td>06:00</td>\n",
       "      <td>00:00</td>\n",
       "      <td>None</td>\n",
       "      <td>Micrograms/cubic meter (LC)</td>\n",
       "    </tr>\n",
       "    <tr>\n",
       "      <th>3</th>\n",
       "      <td>16980</td>\n",
       "      <td>Cook</td>\n",
       "      <td>031</td>\n",
       "      <td>2019-01-12</td>\n",
       "      <td>2019-01-12</td>\n",
       "      <td>2019-03-12</td>\n",
       "      <td>WGS84</td>\n",
       "      <td>2.0</td>\n",
       "      <td>41.965193</td>\n",
       "      <td>-87.876265</td>\n",
       "      <td>...</td>\n",
       "      <td>24 HOUR</td>\n",
       "      <td>EVERY 3RD DAY</td>\n",
       "      <td>18.6</td>\n",
       "      <td>3103</td>\n",
       "      <td>Illinois</td>\n",
       "      <td>17</td>\n",
       "      <td>06:00</td>\n",
       "      <td>00:00</td>\n",
       "      <td>None</td>\n",
       "      <td>Micrograms/cubic meter (LC)</td>\n",
       "    </tr>\n",
       "    <tr>\n",
       "      <th>4</th>\n",
       "      <td>16980</td>\n",
       "      <td>Cook</td>\n",
       "      <td>031</td>\n",
       "      <td>2019-01-15</td>\n",
       "      <td>2019-01-15</td>\n",
       "      <td>2019-03-12</td>\n",
       "      <td>WGS84</td>\n",
       "      <td>2.0</td>\n",
       "      <td>41.965193</td>\n",
       "      <td>-87.876265</td>\n",
       "      <td>...</td>\n",
       "      <td>24 HOUR</td>\n",
       "      <td>EVERY 3RD DAY</td>\n",
       "      <td>9.2</td>\n",
       "      <td>3103</td>\n",
       "      <td>Illinois</td>\n",
       "      <td>17</td>\n",
       "      <td>06:00</td>\n",
       "      <td>00:00</td>\n",
       "      <td>None</td>\n",
       "      <td>Micrograms/cubic meter (LC)</td>\n",
       "    </tr>\n",
       "  </tbody>\n",
       "</table>\n",
       "<p>5 rows × 27 columns</p>\n",
       "</div>"
      ],
      "text/plain": [
       "  cbsa_code county county_code    date_gmt  date_local date_of_last_change  \\\n",
       "0     16980   Cook         031  2019-01-03  2019-01-03          2019-03-12   \n",
       "1     16980   Cook         031  2019-01-06  2019-01-06          2019-03-12   \n",
       "2     16980   Cook         031  2019-01-09  2019-01-09          2019-03-12   \n",
       "3     16980   Cook         031  2019-01-12  2019-01-12          2019-03-12   \n",
       "4     16980   Cook         031  2019-01-15  2019-01-15          2019-03-12   \n",
       "\n",
       "   datum  detection_limit   latitude  longitude  ... sample_duration  \\\n",
       "0  WGS84              2.0  41.965193 -87.876265  ...         24 HOUR   \n",
       "1  WGS84              2.0  41.965193 -87.876265  ...         24 HOUR   \n",
       "2  WGS84              2.0  41.965193 -87.876265  ...         24 HOUR   \n",
       "3  WGS84              2.0  41.965193 -87.876265  ...         24 HOUR   \n",
       "4  WGS84              2.0  41.965193 -87.876265  ...         24 HOUR   \n",
       "\n",
       "  sample_frequency sample_measurement site_number     state  state_code  \\\n",
       "0    EVERY 3RD DAY               11.9        3103  Illinois          17   \n",
       "1    EVERY 3RD DAY                5.3        3103  Illinois          17   \n",
       "2    EVERY 3RD DAY                6.9        3103  Illinois          17   \n",
       "3    EVERY 3RD DAY               18.6        3103  Illinois          17   \n",
       "4    EVERY 3RD DAY                9.2        3103  Illinois          17   \n",
       "\n",
       "  time_gmt time_local uncertainty             units_of_measure  \n",
       "0    06:00      00:00        None  Micrograms/cubic meter (LC)  \n",
       "1    06:00      00:00        None  Micrograms/cubic meter (LC)  \n",
       "2    06:00      00:00        None  Micrograms/cubic meter (LC)  \n",
       "3    06:00      00:00        None  Micrograms/cubic meter (LC)  \n",
       "4    06:00      00:00        None  Micrograms/cubic meter (LC)  \n",
       "\n",
       "[5 rows x 27 columns]"
      ]
     },
     "execution_count": 18,
     "metadata": {},
     "output_type": "execute_result"
    }
   ],
   "source": [
    "# Looking at the columns to see what we can drop\n",
    "print(county_p25_df.columns)\n",
    "county_p25_df.head()"
   ]
  },
  {
   "cell_type": "code",
   "execution_count": 19,
   "metadata": {},
   "outputs": [],
   "source": [
    "columns_to_drop = ['cbsa_code', 'county', 'county_code', 'date_gmt', 'datum', 'detection_limit',\n",
    "                   'method', 'method_code', 'parameter_code', 'poc', 'state', 'state_code', 'time_gmt',\n",
    "                   'uncertainty', 'method_type']\n",
    "county_p25_df.drop(columns=columns_to_drop, inplace=True)"
   ]
  },
  {
   "cell_type": "code",
   "execution_count": 35,
   "metadata": {},
   "outputs": [
    {
     "data": {
      "text/plain": [
       "<matplotlib.axes._subplots.AxesSubplot at 0x263136842e8>"
      ]
     },
     "execution_count": 35,
     "metadata": {},
     "output_type": "execute_result"
    },
    {
     "data": {
      "image/png": "[encoded data removed]",
      "text/plain": [
       "<Figure size 864x432 with 1 Axes>"
      ]
     },
     "metadata": {
      "needs_background": "light"
     },
     "output_type": "display_data"
    }
   ],
   "source": [
    "county_p25_df[county_p25_df.sample_frequency == 'EVERY 6TH DAY'].sample_measurement.plot(figsize=(12,6))"
   ]
  },
  {
   "cell_type": "markdown",
   "metadata": {},
   "source": [
    "### Bakersfield, CA Data"
   ]
  },
  {
   "cell_type": "code",
   "execution_count": 23,
   "metadata": {},
   "outputs": [],
   "source": [
    "email = 'garrett.l.ducharme@gmail.com'\n",
    "with open('C:/Users/ducha/.api_keys/aqs.txt') as f:\n",
    "    key = json.load(f)[\"key\"]\n",
    "state = '06'\n",
    "county = '029'\n",
    "\n",
    "site_dict = {'0003': 'Bakersfield-Health Dept.',\n",
    "             '0004': 'Bakersfield-Chester Ave.',\n",
    "             '0010': 'Bakersfield-Golden/M St.',\n",
    "             '0014': 'Bakersfield-California',\n",
    "             '0016': 'Bakersfield-Airport',\n",
    "             '2012': 'Bakersfield-Muni',\n",
    "             '2019': 'Bakersfield-Westwind',\n",
    "             '2001': 'Kern Wildlife Refuge'\n",
    "            }"
   ]
  },
  {
   "cell_type": "code",
   "execution_count": null,
   "metadata": {},
   "outputs": [],
   "source": [
    "from api_helpers import get_data_by_county, get_data_by_site"
   ]
  },
  {
   "cell_type": "code",
   "execution_count": null,
   "metadata": {},
   "outputs": [],
   "source": [
    "kern_pm_2019 = get_data_by_county(email=email, key=key, param='88101', bdate='20190101', edate='20191231',\n",
    "                                  state='06', county='029')"
   ]
  },
  {
   "cell_type": "code",
   "execution_count": null,
   "metadata": {},
   "outputs": [],
   "source": [
    "kern_pm_2019_df = pd.DataFrame(json.loads(kern_pm_2019.text)['Data'])"
   ]
  },
  {
   "cell_type": "code",
   "execution_count": null,
   "metadata": {},
   "outputs": [],
   "source": [
    "kern_pm_2019_df.site_number.value_counts()"
   ]
  },
  {
   "cell_type": "code",
   "execution_count": 135,
   "metadata": {},
   "outputs": [],
   "source": [
    "met_params = ['68105', '65102', '68108', '62201', '62103', '61101', '61102',\n",
    "              '62604', '63301', '66101']\n",
    "\n",
    "email = 'garrett.l.ducharme@gmail.com'\n",
    "with open('C:/Users/ducha/.api_keys/aqs.txt') as f:\n",
    "    key = json.load(f)[\"key\"]\n",
    "state = '06'\n",
    "county = '029'\n",
    "site='0018'\n",
    "bdates = ['20170101', '20180101', '20190101']\n",
    "edates = ['20171231', '20181231', '20191231']\n",
    "\n",
    "met_params_dict = {}\n",
    "\n",
    "for param in met_params:\n",
    "    for bdate, edate in zip(bdates, edates):\n",
    "        temp_resp = get_data_by_site(email, key, param,\n",
    "                                     bdate, edate, state, county, site)\n",
    "        temp_df = pd.DataFrame(json.loads(temp_resp.text)['Data'])\n",
    "        met_params_dict[param] = temp_df\n",
    "        time.sleep(5)"
   ]
  },
  {
   "cell_type": "code",
   "execution_count": 141,
   "metadata": {},
   "outputs": [],
   "source": [
    "test_resp = get_data_by_site(email, key, '68105', bdate, edate, state, county, site)"
   ]
  },
  {
   "cell_type": "code",
   "execution_count": 143,
   "metadata": {},
   "outputs": [
    {
     "data": {
      "text/plain": [
       "{'Header': [{'status': 'No data matched your selection',\n",
       "   'request_time': '2020-02-10T18:53:01-05:00',\n",
       "   'url': 'https://aqs.epa.gov/data/api/sampleData/bySite?email=garrett.l.ducharme@gmail.com&key=greengazelle22&param=68105&bdate=20190101&edate=20191231&state=06&county=029&site=0018',\n",
       "   'rows': 0}],\n",
       " 'Data': []}"
      ]
     },
     "execution_count": 143,
     "metadata": {},
     "output_type": "execute_result"
    }
   ],
   "source": [
    "json.loads(test_resp.text)"
   ]
  },
  {
   "cell_type": "code",
   "execution_count": 48,
   "metadata": {},
   "outputs": [],
   "source": [
    "kern_pm_2018 = get_data_by_county(email=email, key=key, param='88101', bdate='20180101', edate='20181231',\n",
    "                                  state='06', county='029')"
   ]
  },
  {
   "cell_type": "code",
   "execution_count": 49,
   "metadata": {},
   "outputs": [],
   "source": [
    "kern_pm_2018_df = pd.DataFrame(json.loads(kern_pm_2018.text)['Data'])"
   ]
  },
  {
   "cell_type": "code",
   "execution_count": 50,
   "metadata": {},
   "outputs": [
    {
     "data": {
      "text/plain": [
       "0011    8760\n",
       "0018    8760\n",
       "0014     377\n",
       "0010     122\n",
       "0016     119\n",
       "0015      13\n",
       "Name: site_number, dtype: int64"
      ]
     },
     "execution_count": 50,
     "metadata": {},
     "output_type": "execute_result"
    }
   ],
   "source": [
    "kern_pm_2018_df.site_number.value_counts()"
   ]
  },
  {
   "cell_type": "code",
   "execution_count": 51,
   "metadata": {},
   "outputs": [],
   "source": [
    "kern_pm_2017 = kern_pm_2019 = get_data_by_county(email=email, key=key, param='88101', bdate='20170101', edate='20171231',\n",
    "                                  state='06', county='029')"
   ]
  },
  {
   "cell_type": "code",
   "execution_count": 52,
   "metadata": {},
   "outputs": [],
   "source": [
    "kern_pm_2017_df = pd.DataFrame(json.loads(kern_pm_2017.text)['Data'])"
   ]
  },
  {
   "cell_type": "code",
   "execution_count": 60,
   "metadata": {},
   "outputs": [
    {
     "data": {
      "text/plain": [
       "HOURLY            10224\n",
       "EVERY DAY           365\n",
       "EVERY 3RD DAY       253\n",
       "EVERY 6TH DAY        65\n",
       "EVERY 12TH DAY       41\n",
       "Name: sample_frequency, dtype: int64"
      ]
     },
     "execution_count": 60,
     "metadata": {},
     "output_type": "execute_result"
    }
   ],
   "source": [
    "kern_pm_2017_df.sample_frequency.value_counts()"
   ]
  },
  {
   "cell_type": "code",
   "execution_count": 146,
   "metadata": {},
   "outputs": [
    {
     "data": {
      "text/plain": [
       "<matplotlib.axes._subplots.AxesSubplot at 0x224838f1518>"
      ]
     },
     "execution_count": 146,
     "metadata": {},
     "output_type": "execute_result"
    },
    {
     "data": {
      "image/png": "[encoded data removed]",
      "text/plain": [
       "<Figure size 432x288 with 1 Axes>"
      ]
     },
     "metadata": {
      "needs_background": "light"
     },
     "output_type": "display_data"
    }
   ],
   "source": [
    "kern_pm_2017_df.loc[(kern_pm_2017_df.sample_frequency == 'HOURLY') & (kern_pm_2017_df.site_number == '0018')] \\\n",
    "['sample_measurement'].plot()"
   ]
  },
  {
   "cell_type": "code",
   "execution_count": 145,
   "metadata": {},
   "outputs": [
    {
     "data": {
      "text/plain": [
       "<matplotlib.axes._subplots.AxesSubplot at 0x2248574b048>"
      ]
     },
     "execution_count": 145,
     "metadata": {},
     "output_type": "execute_result"
    },
    {
     "data": {
      "image/png": "[encoded data removed]",
      "text/plain": [
       "<Figure size 432x288 with 1 Axes>"
      ]
     },
     "metadata": {
      "needs_background": "light"
     },
     "output_type": "display_data"
    }
   ],
   "source": [
    "kern_pm_2018_df.loc[(kern_pm_2018_df.sample_frequency == 'HOURLY') & (kern_pm_2018_df.site_number == '0018')] \\\n",
    "['sample_measurement'].plot()"
   ]
  },
  {
   "cell_type": "code",
   "execution_count": 144,
   "metadata": {},
   "outputs": [
    {
     "data": {
      "text/plain": [
       "<matplotlib.axes._subplots.AxesSubplot at 0x22485fefeb8>"
      ]
     },
     "execution_count": 144,
     "metadata": {},
     "output_type": "execute_result"
    },
    {
     "data": {
      "image/png": "[encoded data removed]",
      "text/plain": [
       "<Figure size 432x288 with 1 Axes>"
      ]
     },
     "metadata": {
      "needs_background": "light"
     },
     "output_type": "display_data"
    }
   ],
   "source": [
    "kern_pm_2019_df.loc[(kern_pm_2019_df.sample_frequency == 'HOURLY') & (kern_pm_2019_df.site_number == '0018')] \\\n",
    "['sample_measurement'].plot()"
   ]
  },
  {
   "cell_type": "code",
   "execution_count": null,
   "metadata": {},
   "outputs": [],
   "source": []
  }
 ],
 "metadata": {
  "kernelspec": {
   "display_name": "Python 3",
   "language": "python",
   "name": "python3"
  },
  "language_info": {
   "codemirror_mode": {
    "name": "ipython",
    "version": 3
   },
   "file_extension": ".py",
   "mimetype": "text/x-python",
   "name": "python",
   "nbconvert_exporter": "python",
   "pygments_lexer": "ipython3",
   "version": "3.7.3"
  }
 },
 "nbformat": 4,
 "nbformat_minor": 4
}
