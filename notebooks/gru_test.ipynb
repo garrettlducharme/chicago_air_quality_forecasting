{
 "cells": [
  {
   "cell_type": "markdown",
   "metadata": {},
   "source": [
    "### GRU RNN Implementation"
   ]
  },
  {
   "cell_type": "markdown",
   "metadata": {},
   "source": [
    "In this notebook we will implement a GRU RNN in order to forecast the AQI with all of the available meteorological data at the Chicago SH Bell monitoring site."
   ]
  },
  {
   "cell_type": "code",
   "execution_count": 1,
   "metadata": {},
   "outputs": [
    {
     "name": "stderr",
     "output_type": "stream",
     "text": [
      "Using TensorFlow backend.\n"
     ]
    }
   ],
   "source": [
    "import os\n",
    "import pandas as pd\n",
    "import numpy as np\n",
    "import tensorflow as tf\n",
    "import matplotlib.pyplot as plt\n",
    "import seaborn as sns\n",
    "from sklearn.preprocessing import MinMaxScaler\n",
    "\n",
    "import keras\n",
    "from keras.models import Sequential\n",
    "from keras.layers import Input, Dense, GRU, LSTM, Embedding, Dropout, BatchNormalization\n",
    "from keras.optimizers import RMSprop\n",
    "from keras.callbacks import EarlyStopping, ModelCheckpoint, TensorBoard, ReduceLROnPlateau\n",
    "from keras.preprocessing.sequence import TimeseriesGenerator\n",
    "from google.cloud import storage"
   ]
  },
  {
   "cell_type": "code",
   "execution_count": 2,
   "metadata": {},
   "outputs": [
    {
     "data": {
      "text/plain": [
       "[]"
      ]
     },
     "execution_count": 2,
     "metadata": {},
     "output_type": "execute_result"
    }
   ],
   "source": [
    "tf.config.list_physical_devices('GPU')"
   ]
  },
  {
   "cell_type": "code",
   "execution_count": 3,
   "metadata": {},
   "outputs": [
    {
     "name": "stdout",
     "output_type": "stream",
     "text": [
      "2.1.0\n",
      "2.2.4-tf\n"
     ]
    }
   ],
   "source": [
    "print(tf.__version__)\n",
    "print(tf.keras.__version__)"
   ]
  },
  {
   "cell_type": "markdown",
   "metadata": {},
   "source": [
    "#### Making Train/Test Splits"
   ]
  },
  {
   "cell_type": "code",
   "execution_count": 4,
   "metadata": {},
   "outputs": [],
   "source": [
    "aqi_df = pd.read_csv('./data/SH_Bell/combined_meteor_and_sample.csv', index_col='Unnamed: 0', parse_dates=True)\n",
    "# aqi_df['Hour'] = aqi_df.index.hour\n",
    "aqi_df_12h = aqi_df.resample('12h').mean()"
   ]
  },
  {
   "cell_type": "code",
   "execution_count": 5,
   "metadata": {},
   "outputs": [
    {
     "data": {
      "text/html": [
       "<div>\n",
       "<style scoped>\n",
       "    .dataframe tbody tr th:only-of-type {\n",
       "        vertical-align: middle;\n",
       "    }\n",
       "\n",
       "    .dataframe tbody tr th {\n",
       "        vertical-align: top;\n",
       "    }\n",
       "\n",
       "    .dataframe thead th {\n",
       "        text-align: right;\n",
       "    }\n",
       "</style>\n",
       "<table border=\"1\" class=\"dataframe\">\n",
       "  <thead>\n",
       "    <tr style=\"text-align: right;\">\n",
       "      <th></th>\n",
       "      <th>AWS Mph WVc</th>\n",
       "      <th>Gust Mph Max</th>\n",
       "      <th>AvgT Deg_F Avg</th>\n",
       "      <th>ABP InHg Avg</th>\n",
       "      <th>AWD_cos</th>\n",
       "      <th>AWD_sin</th>\n",
       "      <th>Sample Value</th>\n",
       "    </tr>\n",
       "  </thead>\n",
       "  <tbody>\n",
       "    <tr>\n",
       "      <th>2017-04-01 00:00:00</th>\n",
       "      <td>5.989</td>\n",
       "      <td>15.55</td>\n",
       "      <td>38.74</td>\n",
       "      <td>29.41</td>\n",
       "      <td>0.998027</td>\n",
       "      <td>-0.062791</td>\n",
       "      <td>4.0</td>\n",
       "    </tr>\n",
       "    <tr>\n",
       "      <th>2017-04-01 01:00:00</th>\n",
       "      <td>5.059</td>\n",
       "      <td>11.30</td>\n",
       "      <td>39.46</td>\n",
       "      <td>29.44</td>\n",
       "      <td>0.978148</td>\n",
       "      <td>-0.207912</td>\n",
       "      <td>6.0</td>\n",
       "    </tr>\n",
       "    <tr>\n",
       "      <th>2017-04-01 02:00:00</th>\n",
       "      <td>5.390</td>\n",
       "      <td>11.30</td>\n",
       "      <td>39.08</td>\n",
       "      <td>29.45</td>\n",
       "      <td>0.999925</td>\n",
       "      <td>-0.012217</td>\n",
       "      <td>7.0</td>\n",
       "    </tr>\n",
       "    <tr>\n",
       "      <th>2017-04-01 03:00:00</th>\n",
       "      <td>5.233</td>\n",
       "      <td>11.59</td>\n",
       "      <td>38.95</td>\n",
       "      <td>29.47</td>\n",
       "      <td>0.991671</td>\n",
       "      <td>-0.128796</td>\n",
       "      <td>6.0</td>\n",
       "    </tr>\n",
       "    <tr>\n",
       "      <th>2017-04-01 04:00:00</th>\n",
       "      <td>3.614</td>\n",
       "      <td>8.68</td>\n",
       "      <td>38.86</td>\n",
       "      <td>29.49</td>\n",
       "      <td>0.841511</td>\n",
       "      <td>-0.540240</td>\n",
       "      <td>8.0</td>\n",
       "    </tr>\n",
       "  </tbody>\n",
       "</table>\n",
       "</div>"
      ],
      "text/plain": [
       "                     AWS Mph WVc  Gust Mph Max  AvgT Deg_F Avg  ABP InHg Avg  \\\n",
       "2017-04-01 00:00:00        5.989         15.55           38.74         29.41   \n",
       "2017-04-01 01:00:00        5.059         11.30           39.46         29.44   \n",
       "2017-04-01 02:00:00        5.390         11.30           39.08         29.45   \n",
       "2017-04-01 03:00:00        5.233         11.59           38.95         29.47   \n",
       "2017-04-01 04:00:00        3.614          8.68           38.86         29.49   \n",
       "\n",
       "                      AWD_cos   AWD_sin  Sample Value  \n",
       "2017-04-01 00:00:00  0.998027 -0.062791           4.0  \n",
       "2017-04-01 01:00:00  0.978148 -0.207912           6.0  \n",
       "2017-04-01 02:00:00  0.999925 -0.012217           7.0  \n",
       "2017-04-01 03:00:00  0.991671 -0.128796           6.0  \n",
       "2017-04-01 04:00:00  0.841511 -0.540240           8.0  "
      ]
     },
     "execution_count": 5,
     "metadata": {},
     "output_type": "execute_result"
    }
   ],
   "source": [
    "aqi_df.head()"
   ]
  },
  {
   "cell_type": "code",
   "execution_count": 45,
   "metadata": {},
   "outputs": [],
   "source": [
    "target_names = ['Sample Value']\n",
    "shift_days = 1\n",
    "shift_steps = shift_days*12 # Number of hours\n",
    "aqi_df_targets = aqi_df[target_names].shift(-shift_steps)"
   ]
  },
  {
   "cell_type": "code",
   "execution_count": 61,
   "metadata": {},
   "outputs": [
    {
     "data": {
      "text/html": [
       "<div>\n",
       "<style scoped>\n",
       "    .dataframe tbody tr th:only-of-type {\n",
       "        vertical-align: middle;\n",
       "    }\n",
       "\n",
       "    .dataframe tbody tr th {\n",
       "        vertical-align: top;\n",
       "    }\n",
       "\n",
       "    .dataframe thead th {\n",
       "        text-align: right;\n",
       "    }\n",
       "</style>\n",
       "<table border=\"1\" class=\"dataframe\">\n",
       "  <thead>\n",
       "    <tr style=\"text-align: right;\">\n",
       "      <th></th>\n",
       "      <th>AWS Mph WVc</th>\n",
       "      <th>Gust Mph Max</th>\n",
       "      <th>AvgT Deg_F Avg</th>\n",
       "      <th>ABP InHg Avg</th>\n",
       "      <th>AWD_cos</th>\n",
       "      <th>AWD_sin</th>\n",
       "      <th>Sample Value</th>\n",
       "    </tr>\n",
       "  </thead>\n",
       "  <tbody>\n",
       "    <tr>\n",
       "      <th>2017-04-01 00:00:00</th>\n",
       "      <td>5.989</td>\n",
       "      <td>15.550</td>\n",
       "      <td>38.74</td>\n",
       "      <td>29.41</td>\n",
       "      <td>0.998027</td>\n",
       "      <td>-0.062791</td>\n",
       "      <td>4.0</td>\n",
       "    </tr>\n",
       "    <tr>\n",
       "      <th>2017-04-01 01:00:00</th>\n",
       "      <td>5.059</td>\n",
       "      <td>11.300</td>\n",
       "      <td>39.46</td>\n",
       "      <td>29.44</td>\n",
       "      <td>0.978148</td>\n",
       "      <td>-0.207912</td>\n",
       "      <td>6.0</td>\n",
       "    </tr>\n",
       "    <tr>\n",
       "      <th>2017-04-01 02:00:00</th>\n",
       "      <td>5.390</td>\n",
       "      <td>11.300</td>\n",
       "      <td>39.08</td>\n",
       "      <td>29.45</td>\n",
       "      <td>0.999925</td>\n",
       "      <td>-0.012217</td>\n",
       "      <td>7.0</td>\n",
       "    </tr>\n",
       "    <tr>\n",
       "      <th>2017-04-01 03:00:00</th>\n",
       "      <td>5.233</td>\n",
       "      <td>11.590</td>\n",
       "      <td>38.95</td>\n",
       "      <td>29.47</td>\n",
       "      <td>0.991671</td>\n",
       "      <td>-0.128796</td>\n",
       "      <td>6.0</td>\n",
       "    </tr>\n",
       "    <tr>\n",
       "      <th>2017-04-01 04:00:00</th>\n",
       "      <td>3.614</td>\n",
       "      <td>8.680</td>\n",
       "      <td>38.86</td>\n",
       "      <td>29.49</td>\n",
       "      <td>0.841511</td>\n",
       "      <td>-0.540240</td>\n",
       "      <td>8.0</td>\n",
       "    </tr>\n",
       "    <tr>\n",
       "      <th>2017-04-01 05:00:00</th>\n",
       "      <td>2.051</td>\n",
       "      <td>4.716</td>\n",
       "      <td>36.87</td>\n",
       "      <td>29.49</td>\n",
       "      <td>0.623880</td>\n",
       "      <td>-0.781520</td>\n",
       "      <td>11.0</td>\n",
       "    </tr>\n",
       "    <tr>\n",
       "      <th>2017-04-01 06:00:00</th>\n",
       "      <td>2.134</td>\n",
       "      <td>4.190</td>\n",
       "      <td>35.21</td>\n",
       "      <td>29.51</td>\n",
       "      <td>0.135716</td>\n",
       "      <td>-0.990748</td>\n",
       "      <td>16.0</td>\n",
       "    </tr>\n",
       "    <tr>\n",
       "      <th>2017-04-01 07:00:00</th>\n",
       "      <td>2.335</td>\n",
       "      <td>5.277</td>\n",
       "      <td>36.02</td>\n",
       "      <td>29.55</td>\n",
       "      <td>0.361625</td>\n",
       "      <td>-0.932324</td>\n",
       "      <td>20.0</td>\n",
       "    </tr>\n",
       "    <tr>\n",
       "      <th>2017-04-01 08:00:00</th>\n",
       "      <td>3.432</td>\n",
       "      <td>9.590</td>\n",
       "      <td>40.24</td>\n",
       "      <td>29.57</td>\n",
       "      <td>0.949425</td>\n",
       "      <td>-0.313992</td>\n",
       "      <td>16.0</td>\n",
       "    </tr>\n",
       "    <tr>\n",
       "      <th>2017-04-01 09:00:00</th>\n",
       "      <td>4.208</td>\n",
       "      <td>7.870</td>\n",
       "      <td>43.56</td>\n",
       "      <td>29.58</td>\n",
       "      <td>0.995803</td>\n",
       "      <td>0.091519</td>\n",
       "      <td>7.0</td>\n",
       "    </tr>\n",
       "    <tr>\n",
       "      <th>2017-04-01 10:00:00</th>\n",
       "      <td>3.800</td>\n",
       "      <td>7.975</td>\n",
       "      <td>46.39</td>\n",
       "      <td>29.60</td>\n",
       "      <td>0.962028</td>\n",
       "      <td>0.272952</td>\n",
       "      <td>6.0</td>\n",
       "    </tr>\n",
       "    <tr>\n",
       "      <th>2017-04-01 11:00:00</th>\n",
       "      <td>6.496</td>\n",
       "      <td>10.530</td>\n",
       "      <td>47.52</td>\n",
       "      <td>29.60</td>\n",
       "      <td>0.710677</td>\n",
       "      <td>0.703519</td>\n",
       "      <td>11.0</td>\n",
       "    </tr>\n",
       "    <tr>\n",
       "      <th>2017-04-01 12:00:00</th>\n",
       "      <td>7.494</td>\n",
       "      <td>11.130</td>\n",
       "      <td>47.04</td>\n",
       "      <td>29.60</td>\n",
       "      <td>0.760859</td>\n",
       "      <td>0.648917</td>\n",
       "      <td>18.0</td>\n",
       "    </tr>\n",
       "    <tr>\n",
       "      <th>2017-04-01 13:00:00</th>\n",
       "      <td>7.483</td>\n",
       "      <td>10.740</td>\n",
       "      <td>46.61</td>\n",
       "      <td>29.59</td>\n",
       "      <td>0.597065</td>\n",
       "      <td>0.802193</td>\n",
       "      <td>19.0</td>\n",
       "    </tr>\n",
       "    <tr>\n",
       "      <th>2017-04-01 14:00:00</th>\n",
       "      <td>7.743</td>\n",
       "      <td>12.150</td>\n",
       "      <td>45.99</td>\n",
       "      <td>29.58</td>\n",
       "      <td>0.312667</td>\n",
       "      <td>0.949863</td>\n",
       "      <td>7.0</td>\n",
       "    </tr>\n",
       "    <tr>\n",
       "      <th>2017-04-01 15:00:00</th>\n",
       "      <td>7.569</td>\n",
       "      <td>13.020</td>\n",
       "      <td>46.36</td>\n",
       "      <td>29.57</td>\n",
       "      <td>0.146083</td>\n",
       "      <td>0.989272</td>\n",
       "      <td>9.0</td>\n",
       "    </tr>\n",
       "    <tr>\n",
       "      <th>2017-04-01 16:00:00</th>\n",
       "      <td>6.366</td>\n",
       "      <td>10.810</td>\n",
       "      <td>46.55</td>\n",
       "      <td>29.57</td>\n",
       "      <td>0.019197</td>\n",
       "      <td>0.999816</td>\n",
       "      <td>16.0</td>\n",
       "    </tr>\n",
       "    <tr>\n",
       "      <th>2017-04-01 17:00:00</th>\n",
       "      <td>5.787</td>\n",
       "      <td>9.480</td>\n",
       "      <td>47.00</td>\n",
       "      <td>29.57</td>\n",
       "      <td>0.163326</td>\n",
       "      <td>0.986572</td>\n",
       "      <td>5.0</td>\n",
       "    </tr>\n",
       "    <tr>\n",
       "      <th>2017-04-01 18:00:00</th>\n",
       "      <td>4.999</td>\n",
       "      <td>9.520</td>\n",
       "      <td>44.14</td>\n",
       "      <td>29.57</td>\n",
       "      <td>0.031411</td>\n",
       "      <td>0.999507</td>\n",
       "      <td>14.0</td>\n",
       "    </tr>\n",
       "    <tr>\n",
       "      <th>2017-04-01 19:00:00</th>\n",
       "      <td>2.987</td>\n",
       "      <td>6.503</td>\n",
       "      <td>44.39</td>\n",
       "      <td>29.57</td>\n",
       "      <td>-0.295708</td>\n",
       "      <td>0.955278</td>\n",
       "      <td>9.0</td>\n",
       "    </tr>\n",
       "    <tr>\n",
       "      <th>2017-04-01 20:00:00</th>\n",
       "      <td>2.441</td>\n",
       "      <td>5.347</td>\n",
       "      <td>46.18</td>\n",
       "      <td>29.57</td>\n",
       "      <td>-0.829038</td>\n",
       "      <td>0.559193</td>\n",
       "      <td>19.0</td>\n",
       "    </tr>\n",
       "    <tr>\n",
       "      <th>2017-04-01 21:00:00</th>\n",
       "      <td>2.417</td>\n",
       "      <td>4.506</td>\n",
       "      <td>45.28</td>\n",
       "      <td>29.58</td>\n",
       "      <td>-0.937282</td>\n",
       "      <td>-0.348572</td>\n",
       "      <td>17.0</td>\n",
       "    </tr>\n",
       "    <tr>\n",
       "      <th>2017-04-01 22:00:00</th>\n",
       "      <td>1.631</td>\n",
       "      <td>3.209</td>\n",
       "      <td>43.83</td>\n",
       "      <td>29.58</td>\n",
       "      <td>-0.992332</td>\n",
       "      <td>0.123601</td>\n",
       "      <td>28.0</td>\n",
       "    </tr>\n",
       "    <tr>\n",
       "      <th>2017-04-01 23:00:00</th>\n",
       "      <td>1.278</td>\n",
       "      <td>2.788</td>\n",
       "      <td>43.04</td>\n",
       "      <td>29.58</td>\n",
       "      <td>-0.601815</td>\n",
       "      <td>-0.798636</td>\n",
       "      <td>29.0</td>\n",
       "    </tr>\n",
       "  </tbody>\n",
       "</table>\n",
       "</div>"
      ],
      "text/plain": [
       "                     AWS Mph WVc  Gust Mph Max  AvgT Deg_F Avg  ABP InHg Avg  \\\n",
       "2017-04-01 00:00:00        5.989        15.550           38.74         29.41   \n",
       "2017-04-01 01:00:00        5.059        11.300           39.46         29.44   \n",
       "2017-04-01 02:00:00        5.390        11.300           39.08         29.45   \n",
       "2017-04-01 03:00:00        5.233        11.590           38.95         29.47   \n",
       "2017-04-01 04:00:00        3.614         8.680           38.86         29.49   \n",
       "2017-04-01 05:00:00        2.051         4.716           36.87         29.49   \n",
       "2017-04-01 06:00:00        2.134         4.190           35.21         29.51   \n",
       "2017-04-01 07:00:00        2.335         5.277           36.02         29.55   \n",
       "2017-04-01 08:00:00        3.432         9.590           40.24         29.57   \n",
       "2017-04-01 09:00:00        4.208         7.870           43.56         29.58   \n",
       "2017-04-01 10:00:00        3.800         7.975           46.39         29.60   \n",
       "2017-04-01 11:00:00        6.496        10.530           47.52         29.60   \n",
       "2017-04-01 12:00:00        7.494        11.130           47.04         29.60   \n",
       "2017-04-01 13:00:00        7.483        10.740           46.61         29.59   \n",
       "2017-04-01 14:00:00        7.743        12.150           45.99         29.58   \n",
       "2017-04-01 15:00:00        7.569        13.020           46.36         29.57   \n",
       "2017-04-01 16:00:00        6.366        10.810           46.55         29.57   \n",
       "2017-04-01 17:00:00        5.787         9.480           47.00         29.57   \n",
       "2017-04-01 18:00:00        4.999         9.520           44.14         29.57   \n",
       "2017-04-01 19:00:00        2.987         6.503           44.39         29.57   \n",
       "2017-04-01 20:00:00        2.441         5.347           46.18         29.57   \n",
       "2017-04-01 21:00:00        2.417         4.506           45.28         29.58   \n",
       "2017-04-01 22:00:00        1.631         3.209           43.83         29.58   \n",
       "2017-04-01 23:00:00        1.278         2.788           43.04         29.58   \n",
       "\n",
       "                      AWD_cos   AWD_sin  Sample Value  \n",
       "2017-04-01 00:00:00  0.998027 -0.062791           4.0  \n",
       "2017-04-01 01:00:00  0.978148 -0.207912           6.0  \n",
       "2017-04-01 02:00:00  0.999925 -0.012217           7.0  \n",
       "2017-04-01 03:00:00  0.991671 -0.128796           6.0  \n",
       "2017-04-01 04:00:00  0.841511 -0.540240           8.0  \n",
       "2017-04-01 05:00:00  0.623880 -0.781520          11.0  \n",
       "2017-04-01 06:00:00  0.135716 -0.990748          16.0  \n",
       "2017-04-01 07:00:00  0.361625 -0.932324          20.0  \n",
       "2017-04-01 08:00:00  0.949425 -0.313992          16.0  \n",
       "2017-04-01 09:00:00  0.995803  0.091519           7.0  \n",
       "2017-04-01 10:00:00  0.962028  0.272952           6.0  \n",
       "2017-04-01 11:00:00  0.710677  0.703519          11.0  \n",
       "2017-04-01 12:00:00  0.760859  0.648917          18.0  \n",
       "2017-04-01 13:00:00  0.597065  0.802193          19.0  \n",
       "2017-04-01 14:00:00  0.312667  0.949863           7.0  \n",
       "2017-04-01 15:00:00  0.146083  0.989272           9.0  \n",
       "2017-04-01 16:00:00  0.019197  0.999816          16.0  \n",
       "2017-04-01 17:00:00  0.163326  0.986572           5.0  \n",
       "2017-04-01 18:00:00  0.031411  0.999507          14.0  \n",
       "2017-04-01 19:00:00 -0.295708  0.955278           9.0  \n",
       "2017-04-01 20:00:00 -0.829038  0.559193          19.0  \n",
       "2017-04-01 21:00:00 -0.937282 -0.348572          17.0  \n",
       "2017-04-01 22:00:00 -0.992332  0.123601          28.0  \n",
       "2017-04-01 23:00:00 -0.601815 -0.798636          29.0  "
      ]
     },
     "execution_count": 61,
     "metadata": {},
     "output_type": "execute_result"
    }
   ],
   "source": [
    "aqi_df.head(24)"
   ]
  },
  {
   "cell_type": "markdown",
   "metadata": {},
   "source": [
    "#### Scaling the Data"
   ]
  },
  {
   "cell_type": "code",
   "execution_count": 70,
   "metadata": {},
   "outputs": [],
   "source": [
    "def log_trans(y):\n",
    "    y = np.array(y)\n",
    "    return np.log10(y + 1)\n",
    "\n",
    "def inv_log_trans(y):\n",
    "    y = np.array(y)\n",
    "    return 10**y - 1\n",
    "\n",
    "def preprocesser(df, target_names, shift_steps, train_ratio, scale_idx_list):\n",
    "    \"\"\"\n",
    "    Takes in the aqi_df and returns processed versions of the train and test splits.\n",
    "    The number of shift steps, the train_ratio, and the variables that will be min-max\n",
    "    scaled can be adjusted.\n",
    "    The min-max scaler for the target is also returned so that it can be used later to invert\n",
    "    the predictions and compare to the true values.\n",
    "    \"\"\"\n",
    "    df = df.copy()\n",
    "    \n",
    "#     df[target_names] = log_trans(df[target_names])\n",
    "    df_targets = df[target_names].shift(-shift_steps)\n",
    "    \n",
    "    X_data = df.values[0:-shift_steps]\n",
    "    y_data = df_targets.values[:-shift_steps]\n",
    "\n",
    "    num_data = len(X_data)\n",
    "    num_train = int(train_ratio * num_data)\n",
    "    num_test = num_data - num_train\n",
    "    X_train = X_data[0:num_train]\n",
    "    X_test = X_data[num_train:]\n",
    "    y_train = y_data[0:num_train]\n",
    "    y_test = y_data[num_train:]\n",
    "    \n",
    "    X_scaler = MinMaxScaler()\n",
    "    X_train[:, scale_idx_list] = X_scaler.fit_transform(X_train[:, scale_idx_list])\n",
    "    X_test[:, scale_idx_list] = X_scaler.transform(X_test[:, scale_idx_list])\n",
    "\n",
    "    y_scaler = MinMaxScaler()\n",
    "    y_train = y_scaler.fit_transform(y_train)\n",
    "    y_test = y_scaler.transform(y_test)\n",
    "    \n",
    "    return X_train, y_train, X_test, y_test, y_scaler\n",
    "\n",
    "def inv_y(y_scaled, y_scaler):\n",
    "    y_log = y_scaler.inverse_transform(y_scaled)\n",
    "    return inv_log_trans(y_log)"
   ]
  },
  {
   "cell_type": "code",
   "execution_count": 71,
   "metadata": {},
   "outputs": [],
   "source": [
    "X_train, y_train, X_test, y_test, y_scaler = preprocesser(aqi_df, target_names, shift_steps, 0.80, [0,1,2,3,6])"
   ]
  },
  {
   "cell_type": "code",
   "execution_count": 72,
   "metadata": {},
   "outputs": [],
   "source": [
    "warmup_steps = 50\n",
    "def loss_mse_warmup(y_true, y_pred):\n",
    "    \"\"\"\n",
    "    Calculate the Mean Squared Error between y_true and y_pred,\n",
    "    but ignore the beginning \"warmup\" part of the sequences.\n",
    "    \n",
    "    y_true is the desired output.\n",
    "    y_pred is the model's output.\n",
    "    \"\"\"\n",
    "\n",
    "    # The shape of both input tensors are:\n",
    "    # [batch_size, sequence_length, num_y_signals].\n",
    "\n",
    "    # Ignore the \"warmup\" parts of the sequences\n",
    "    # by taking slices of the tensors.\n",
    "    y_true_slice = y_true[:, warmup_steps:, :]\n",
    "    y_pred_slice = y_pred[:, warmup_steps:, :]\n",
    "\n",
    "    # These sliced tensors both have this shape:\n",
    "    # [batch_size, sequence_length - warmup_steps, num_y_signals]\n",
    "\n",
    "    # Calculate the MSE loss for each value in these tensors.\n",
    "    # This outputs a 3-rank tensor of the same shape.\n",
    "    loss = tf.losses.mean_squared_error(y_true=y_true_slice,\n",
    "                                        y_pred=y_pred_slice)\n",
    "\n",
    "    # Keras may reduce this across the first axis (the batch)\n",
    "    # but the semantics are unclear, so to be sure we use\n",
    "    # the loss across the entire tensor, we reduce it to a\n",
    "    # single scalar with the mean function.\n",
    "    loss_mean = tf.reduce_mean(loss)\n",
    "\n",
    "    return loss_mean"
   ]
  },
  {
   "cell_type": "code",
   "execution_count": 73,
   "metadata": {},
   "outputs": [],
   "source": [
    "def batch_generator(batch_size, sequence_length):\n",
    "    \"\"\"\n",
    "    Generator function for creating random batches of training-data.\n",
    "    \"\"\"\n",
    "\n",
    "    # Infinite loop.\n",
    "    while True:\n",
    "        # Allocate a new array for the batch of input-signals.\n",
    "        x_shape = (batch_size, sequence_length, X_test.shape[1])\n",
    "        x_batch = np.zeros(shape=x_shape, dtype=np.float16)\n",
    "\n",
    "        # Allocate a new array for the batch of output-signals.\n",
    "        y_shape = (batch_size, sequence_length, y_test.shape[1])\n",
    "        y_batch = np.zeros(shape=y_shape, dtype=np.float16)\n",
    "\n",
    "        # Fill the batch with random sequences of data.\n",
    "        for i in range(batch_size):\n",
    "            # Get a random start-index.\n",
    "            # This points somewhere into the training-data.\n",
    "            idx = np.random.randint(X_train.shape[0] - sequence_length)\n",
    "            \n",
    "            # Copy the sequences of data starting at this index.\n",
    "            x_batch[i] = X_train[idx:idx+sequence_length]\n",
    "            y_batch[i] = y_train[idx:idx+sequence_length]\n",
    "        \n",
    "        yield (x_batch, y_batch)"
   ]
  },
  {
   "cell_type": "code",
   "execution_count": 74,
   "metadata": {},
   "outputs": [],
   "source": [
    "validation_data = (np.expand_dims(X_test, axis=0),\n",
    "                  np.expand_dims(y_test, axis=0))"
   ]
  },
  {
   "cell_type": "markdown",
   "metadata": {},
   "source": [
    "#### Building the GRU"
   ]
  },
  {
   "cell_type": "code",
   "execution_count": 88,
   "metadata": {},
   "outputs": [],
   "source": [
    "model = Sequential()\n",
    "model.add(GRU(units=64,\n",
    "              return_sequences=True,\n",
    "              input_shape=(None, X_test.shape[1],)\n",
    "             ))\n",
    "model.add(Dropout(0.2))\n",
    "model.add(GRU(units=32, return_sequences=True))\n",
    "model.add(Dropout(0.2))\n",
    "model.add(Dense(y_test.shape[1], activation='sigmoid'))"
   ]
  },
  {
   "cell_type": "code",
   "execution_count": 89,
   "metadata": {},
   "outputs": [],
   "source": [
    "optimizer = RMSprop(0.01)\n",
    "model.compile(loss=loss_mse_warmup, optimizer=optimizer)"
   ]
  },
  {
   "cell_type": "code",
   "execution_count": 90,
   "metadata": {},
   "outputs": [
    {
     "name": "stdout",
     "output_type": "stream",
     "text": [
      "Epoch 1/15\n",
      "2/2 [==============================] - 29s 14s/step - loss: 0.0837 - val_loss: 0.0021\n",
      "Epoch 2/15\n",
      "2/2 [==============================] - 19s 9s/step - loss: 0.0031 - val_loss: 0.0020\n",
      "Epoch 3/15\n",
      "2/2 [==============================] - 19s 9s/step - loss: 0.0030 - val_loss: 0.0021\n",
      "Epoch 4/15\n",
      "2/2 [==============================] - 19s 10s/step - loss: 0.0036 - val_loss: 0.0022\n",
      "Epoch 5/15\n",
      "2/2 [==============================] - 20s 10s/step - loss: 0.0031 - val_loss: 0.0020\n",
      "Epoch 6/15\n",
      "2/2 [==============================] - 20s 10s/step - loss: 0.0029 - val_loss: 0.0020\n",
      "Epoch 7/15\n",
      "2/2 [==============================] - 19s 9s/step - loss: 0.0033 - val_loss: 0.0025\n",
      "Epoch 8/15\n",
      "2/2 [==============================] - 19s 9s/step - loss: 0.0035 - val_loss: 0.0019\n",
      "Epoch 9/15\n",
      "2/2 [==============================] - 19s 9s/step - loss: 0.0031 - val_loss: 0.0019\n",
      "Epoch 10/15\n",
      "2/2 [==============================] - 18s 9s/step - loss: 0.0033 - val_loss: 0.0019\n",
      "Epoch 11/15\n",
      "2/2 [==============================] - 19s 9s/step - loss: 0.0032 - val_loss: 0.0019\n",
      "Epoch 12/15\n",
      "2/2 [==============================] - 19s 10s/step - loss: 0.0029 - val_loss: 0.0019\n",
      "Epoch 13/15\n",
      "2/2 [==============================] - 19s 9s/step - loss: 0.0030 - val_loss: 0.0019\n",
      "Epoch 14/15\n",
      "2/2 [==============================] - 20s 10s/step - loss: 0.0032 - val_loss: 0.0019\n",
      "Epoch 15/15\n",
      "2/2 [==============================] - 20s 10s/step - loss: 0.0033 - val_loss: 0.0019\n"
     ]
    },
    {
     "data": {
      "text/plain": [
       "<keras.callbacks.callbacks.History at 0x7f7abfc82e48>"
      ]
     },
     "execution_count": 90,
     "metadata": {},
     "output_type": "execute_result"
    }
   ],
   "source": [
    "batch_size = 128\n",
    "sequence_length = 24*7*4 # 4 week long sequences\n",
    "gru_generator = batch_generator(batch_size=batch_size,\n",
    "                            sequence_length=sequence_length)\n",
    "\n",
    "model.fit_generator(generator=gru_generator, \n",
    "                    epochs=15,\n",
    "                    verbose=1, steps_per_epoch=2,\n",
    "                    validation_data=validation_data,\n",
    "                    use_multiprocessing=True)"
   ]
  },
  {
   "cell_type": "code",
   "execution_count": 54,
   "metadata": {
    "jupyter": {
     "source_hidden": true
    }
   },
   "outputs": [],
   "source": [
    "from keras.models import load_model\n",
    "\n",
    "model = load_model('./models/chicago_gru_12h_16d_512batch.hf5', compile=False)\n",
    "optimizer = RMSprop(0.01)\n",
    "model.compile(loss=loss_mse_warmup, optimizer=optimizer)"
   ]
  },
  {
   "cell_type": "code",
   "execution_count": 91,
   "metadata": {},
   "outputs": [
    {
     "name": "stdout",
     "output_type": "stream",
     "text": [
      "1/1 [==============================] - 2s 2s/step\n"
     ]
    }
   ],
   "source": [
    "result = model.evaluate(x=np.expand_dims(X_test, axis=0),\n",
    "                        y=np.expand_dims(y_test, axis=0))"
   ]
  },
  {
   "cell_type": "code",
   "execution_count": 97,
   "metadata": {},
   "outputs": [],
   "source": [
    "def plot_comparison(start_idx, length=100, train=False):\n",
    "    \"\"\"\n",
    "    Plot the predicted and true output-signals.\n",
    "    \n",
    "    :param start_idx: Start-index for the time-series.\n",
    "    :param length: Sequence-length to process and plot.\n",
    "    :param train: Boolean whether to use training- or test-set.\n",
    "    \"\"\"\n",
    "    \n",
    "    if train:\n",
    "        # Use training-data.\n",
    "        x = X_train\n",
    "        y_true = y_train\n",
    "    else:\n",
    "        # Use test-data.\n",
    "        x = X_test\n",
    "        y_true = y_test\n",
    "    \n",
    "    # End-index for the sequences.\n",
    "    end_idx = start_idx + length\n",
    "    x = x[start_idx:end_idx]\n",
    "    y_true = y_true[start_idx:end_idx]\n",
    "\n",
    "    x = np.expand_dims(x, axis=0)\n",
    "    y_pred = model.predict(x)\n",
    "    \n",
    "    # For each output-signal.\n",
    "    for signal in range(len(target_names)):\n",
    "\n",
    "        signal_pred = y_pred[:, signal]\n",
    "        signal_true = y_true[:, signal]\n",
    "        plt.figure(figsize=(15,5))\n",
    "        plt.plot(signal_true, label='True Values')\n",
    "        plt.plot(signal_pred, label='Predicted Values')\n",
    "        p = plt.axvspan(0, warmup_steps, facecolor='black', alpha=0.15)\n",
    "        plt.ylabel(r'$PM_{10}$ Concentration')\n",
    "        plt.xlabel('Sample Hour')\n",
    "        plt.title('Concentration Predictions vs True Values')\n",
    "        plt.legend()\n",
    "        plt.show()"
   ]
  },
  {
   "cell_type": "code",
   "execution_count": 99,
   "metadata": {},
   "outputs": [
    {
     "data": {
      "image/png": "[encoded data removed]",
      "text/plain": [
       "<Figure size 1080x360 with 1 Axes>"
      ]
     },
     "metadata": {
      "needs_background": "light"
     },
     "output_type": "display_data"
    }
   ],
   "source": [
    "sns.set_context('poster')\n",
    "plot_comparison(start_idx=0, length=1000, train=True)"
   ]
  },
  {
   "cell_type": "code",
   "execution_count": 86,
   "metadata": {},
   "outputs": [
    {
     "data": {
      "text/plain": [
       "(390, 1)"
      ]
     },
     "execution_count": 86,
     "metadata": {},
     "output_type": "execute_result"
    }
   ],
   "source": [
    "y_pred.shape"
   ]
  },
  {
   "cell_type": "code",
   "execution_count": 94,
   "metadata": {},
   "outputs": [
    {
     "data": {
      "text/plain": [
       "(0.9166666666666665, 96.41666666666669)"
      ]
     },
     "execution_count": 94,
     "metadata": {},
     "output_type": "execute_result"
    },
    {
     "data": {
      "image/png": "[encoded data removed]",
      "text/plain": [
       "<Figure size 432x288 with 1 Axes>"
      ]
     },
     "metadata": {
      "needs_background": "light"
     },
     "output_type": "display_data"
    }
   ],
   "source": [
    "plt.scatter(y_true, y_pred)\n",
    "plt.xlim(y_true.min(), y_true.max())\n",
    "plt.ylim(y_true.min(), y_true.max())"
   ]
  },
  {
   "cell_type": "code",
   "execution_count": 162,
   "metadata": {},
   "outputs": [],
   "source": [
    "model.save('./chicago_gru_12h_16d_512batch.hf5')"
   ]
  }
 ],
 "metadata": {
  "kernelspec": {
   "display_name": "Python 3",
   "language": "python",
   "name": "python3"
  },
  "language_info": {
   "codemirror_mode": {
    "name": "ipython",
    "version": 3
   },
   "file_extension": ".py",
   "mimetype": "text/x-python",
   "name": "python",
   "nbconvert_exporter": "python",
   "pygments_lexer": "ipython3",
   "version": "3.5.3"
  }
 },
 "nbformat": 4,
 "nbformat_minor": 4
}
