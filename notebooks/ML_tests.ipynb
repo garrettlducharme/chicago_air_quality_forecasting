{
 "cells": [
  {
   "cell_type": "markdown",
   "metadata": {},
   "source": [
    "In this notebook we will be attempting to reshape the problem a bit. Instead of calculating air quality on an hourly level, we're instead going to use more traditional machine learning models in an attempt to classify if a future time period has poor air quality. The idea here is that while it may be hard to calculate exact air quality levels when there are so many outliers, we may be able to instead simply tell residents when we think conditions will be bad."
   ]
  },
  {
   "cell_type": "code",
   "execution_count": 370,
   "metadata": {},
   "outputs": [],
   "source": [
    "import os\n",
    "import pandas as pd\n",
    "import matplotlib.pyplot as plt\n",
    "import numpy as np\n",
    "import seaborn as sns\n",
    "\n",
    "from sklearn.model_selection import train_test_split\n",
    "from sklearn.preprocessing import MinMaxScaler, StandardScaler\n",
    "from sklearn.ensemble import RandomForestClassifier\n",
    "from imblearn.under_sampling import RandomUnderSampler"
   ]
  },
  {
   "cell_type": "code",
   "execution_count": 371,
   "metadata": {},
   "outputs": [],
   "source": [
    "aqi_df = pd.read_csv(\"../data/sh_bell/combined_meteor_and_sample.csv\", index_col='Unnamed: 0', parse_dates=True)"
   ]
  },
  {
   "cell_type": "code",
   "execution_count": 372,
   "metadata": {},
   "outputs": [],
   "source": [
    "aqi_df.drop(columns = ['AWD_cos', 'AWD_sin'], inplace=True)"
   ]
  },
  {
   "cell_type": "code",
   "execution_count": 373,
   "metadata": {},
   "outputs": [
    {
     "data": {
      "text/html": [
       "<div>\n",
       "<style scoped>\n",
       "    .dataframe tbody tr th:only-of-type {\n",
       "        vertical-align: middle;\n",
       "    }\n",
       "\n",
       "    .dataframe tbody tr th {\n",
       "        vertical-align: top;\n",
       "    }\n",
       "\n",
       "    .dataframe thead th {\n",
       "        text-align: right;\n",
       "    }\n",
       "</style>\n",
       "<table border=\"1\" class=\"dataframe\">\n",
       "  <thead>\n",
       "    <tr style=\"text-align: right;\">\n",
       "      <th></th>\n",
       "      <th>AWS Mph WVc</th>\n",
       "      <th>Gust Mph Max</th>\n",
       "      <th>AvgT Deg_F Avg</th>\n",
       "      <th>ABP InHg Avg</th>\n",
       "      <th>Sample Value</th>\n",
       "    </tr>\n",
       "  </thead>\n",
       "  <tbody>\n",
       "    <tr>\n",
       "      <th>2017-04-01 00:00:00</th>\n",
       "      <td>5.989</td>\n",
       "      <td>15.55</td>\n",
       "      <td>38.74</td>\n",
       "      <td>29.41</td>\n",
       "      <td>4.0</td>\n",
       "    </tr>\n",
       "    <tr>\n",
       "      <th>2017-04-01 01:00:00</th>\n",
       "      <td>5.059</td>\n",
       "      <td>11.30</td>\n",
       "      <td>39.46</td>\n",
       "      <td>29.44</td>\n",
       "      <td>6.0</td>\n",
       "    </tr>\n",
       "    <tr>\n",
       "      <th>2017-04-01 02:00:00</th>\n",
       "      <td>5.390</td>\n",
       "      <td>11.30</td>\n",
       "      <td>39.08</td>\n",
       "      <td>29.45</td>\n",
       "      <td>7.0</td>\n",
       "    </tr>\n",
       "    <tr>\n",
       "      <th>2017-04-01 03:00:00</th>\n",
       "      <td>5.233</td>\n",
       "      <td>11.59</td>\n",
       "      <td>38.95</td>\n",
       "      <td>29.47</td>\n",
       "      <td>6.0</td>\n",
       "    </tr>\n",
       "    <tr>\n",
       "      <th>2017-04-01 04:00:00</th>\n",
       "      <td>3.614</td>\n",
       "      <td>8.68</td>\n",
       "      <td>38.86</td>\n",
       "      <td>29.49</td>\n",
       "      <td>8.0</td>\n",
       "    </tr>\n",
       "  </tbody>\n",
       "</table>\n",
       "</div>"
      ],
      "text/plain": [
       "                     AWS Mph WVc  Gust Mph Max  AvgT Deg_F Avg  ABP InHg Avg  \\\n",
       "2017-04-01 00:00:00        5.989         15.55           38.74         29.41   \n",
       "2017-04-01 01:00:00        5.059         11.30           39.46         29.44   \n",
       "2017-04-01 02:00:00        5.390         11.30           39.08         29.45   \n",
       "2017-04-01 03:00:00        5.233         11.59           38.95         29.47   \n",
       "2017-04-01 04:00:00        3.614          8.68           38.86         29.49   \n",
       "\n",
       "                     Sample Value  \n",
       "2017-04-01 00:00:00           4.0  \n",
       "2017-04-01 01:00:00           6.0  \n",
       "2017-04-01 02:00:00           7.0  \n",
       "2017-04-01 03:00:00           6.0  \n",
       "2017-04-01 04:00:00           8.0  "
      ]
     },
     "execution_count": 373,
     "metadata": {},
     "output_type": "execute_result"
    }
   ],
   "source": [
    "aqi_df.head()"
   ]
  },
  {
   "cell_type": "code",
   "execution_count": 374,
   "metadata": {},
   "outputs": [],
   "source": [
    "def df_shift(df, n_lags=1, n_obs=1):\n",
    "    \"\"\"\n",
    "    Returns a dataframe with n_lags for all variables and n_obs for the sample value\n",
    "    \"\"\"\n",
    "    n_vars = df.shape[1]\n",
    "    cols, col_names = [], []\n",
    "    # lags\n",
    "    for i in range(n_lags, 0, -1):\n",
    "        cols.append(df.shift(i))\n",
    "        col_names += [f'{col} (t-{i})' for col in df.columns]\n",
    "    # observations\n",
    "    for i in range(0, n_obs):\n",
    "        cols.append(df['Sample Value'].shift(-i))\n",
    "        if i == 0:\n",
    "            col_names.append('Sample Value (t)')\n",
    "        else:\n",
    "            col_names.append(f'Sample Value (t+{i})')\n",
    "            \n",
    "    shifted_df = pd.concat(cols, axis=1)\n",
    "    shifted_df.columns = col_names\n",
    "    shifted_df.dropna(inplace=True)\n",
    "    \n",
    "    return shifted_df"
   ]
  },
  {
   "cell_type": "markdown",
   "metadata": {},
   "source": [
    "With this function, we can generate dataframes that have features from t - n_lags to t - 1, and observations from t to t + n_obs."
   ]
  },
  {
   "cell_type": "code",
   "execution_count": 389,
   "metadata": {},
   "outputs": [
    {
     "data": {
      "text/html": [
       "<div>\n",
       "<style scoped>\n",
       "    .dataframe tbody tr th:only-of-type {\n",
       "        vertical-align: middle;\n",
       "    }\n",
       "\n",
       "    .dataframe tbody tr th {\n",
       "        vertical-align: top;\n",
       "    }\n",
       "\n",
       "    .dataframe thead th {\n",
       "        text-align: right;\n",
       "    }\n",
       "</style>\n",
       "<table border=\"1\" class=\"dataframe\">\n",
       "  <thead>\n",
       "    <tr style=\"text-align: right;\">\n",
       "      <th></th>\n",
       "      <th>AWS Mph WVc (t-6)</th>\n",
       "      <th>Gust Mph Max (t-6)</th>\n",
       "      <th>AvgT Deg_F Avg (t-6)</th>\n",
       "      <th>ABP InHg Avg (t-6)</th>\n",
       "      <th>Sample Value (t-6)</th>\n",
       "      <th>AWS Mph WVc (t-5)</th>\n",
       "      <th>Gust Mph Max (t-5)</th>\n",
       "      <th>AvgT Deg_F Avg (t-5)</th>\n",
       "      <th>ABP InHg Avg (t-5)</th>\n",
       "      <th>Sample Value (t-5)</th>\n",
       "      <th>...</th>\n",
       "      <th>Gust Mph Max (t-2)</th>\n",
       "      <th>AvgT Deg_F Avg (t-2)</th>\n",
       "      <th>ABP InHg Avg (t-2)</th>\n",
       "      <th>Sample Value (t-2)</th>\n",
       "      <th>AWS Mph WVc (t-1)</th>\n",
       "      <th>Gust Mph Max (t-1)</th>\n",
       "      <th>AvgT Deg_F Avg (t-1)</th>\n",
       "      <th>ABP InHg Avg (t-1)</th>\n",
       "      <th>Sample Value (t-1)</th>\n",
       "      <th>Sample Value (t)</th>\n",
       "    </tr>\n",
       "  </thead>\n",
       "  <tbody>\n",
       "    <tr>\n",
       "      <th>2017-04-01 06:00:00</th>\n",
       "      <td>5.989</td>\n",
       "      <td>15.55</td>\n",
       "      <td>38.74</td>\n",
       "      <td>29.41</td>\n",
       "      <td>4.0</td>\n",
       "      <td>5.059</td>\n",
       "      <td>11.300</td>\n",
       "      <td>39.46</td>\n",
       "      <td>29.44</td>\n",
       "      <td>6.0</td>\n",
       "      <td>...</td>\n",
       "      <td>8.680</td>\n",
       "      <td>38.86</td>\n",
       "      <td>29.49</td>\n",
       "      <td>8.0</td>\n",
       "      <td>2.051</td>\n",
       "      <td>4.716</td>\n",
       "      <td>36.87</td>\n",
       "      <td>29.49</td>\n",
       "      <td>11.0</td>\n",
       "      <td>16.0</td>\n",
       "    </tr>\n",
       "    <tr>\n",
       "      <th>2017-04-01 07:00:00</th>\n",
       "      <td>5.059</td>\n",
       "      <td>11.30</td>\n",
       "      <td>39.46</td>\n",
       "      <td>29.44</td>\n",
       "      <td>6.0</td>\n",
       "      <td>5.390</td>\n",
       "      <td>11.300</td>\n",
       "      <td>39.08</td>\n",
       "      <td>29.45</td>\n",
       "      <td>7.0</td>\n",
       "      <td>...</td>\n",
       "      <td>4.716</td>\n",
       "      <td>36.87</td>\n",
       "      <td>29.49</td>\n",
       "      <td>11.0</td>\n",
       "      <td>2.134</td>\n",
       "      <td>4.190</td>\n",
       "      <td>35.21</td>\n",
       "      <td>29.51</td>\n",
       "      <td>16.0</td>\n",
       "      <td>20.0</td>\n",
       "    </tr>\n",
       "    <tr>\n",
       "      <th>2017-04-01 08:00:00</th>\n",
       "      <td>5.390</td>\n",
       "      <td>11.30</td>\n",
       "      <td>39.08</td>\n",
       "      <td>29.45</td>\n",
       "      <td>7.0</td>\n",
       "      <td>5.233</td>\n",
       "      <td>11.590</td>\n",
       "      <td>38.95</td>\n",
       "      <td>29.47</td>\n",
       "      <td>6.0</td>\n",
       "      <td>...</td>\n",
       "      <td>4.190</td>\n",
       "      <td>35.21</td>\n",
       "      <td>29.51</td>\n",
       "      <td>16.0</td>\n",
       "      <td>2.335</td>\n",
       "      <td>5.277</td>\n",
       "      <td>36.02</td>\n",
       "      <td>29.55</td>\n",
       "      <td>20.0</td>\n",
       "      <td>16.0</td>\n",
       "    </tr>\n",
       "    <tr>\n",
       "      <th>2017-04-01 09:00:00</th>\n",
       "      <td>5.233</td>\n",
       "      <td>11.59</td>\n",
       "      <td>38.95</td>\n",
       "      <td>29.47</td>\n",
       "      <td>6.0</td>\n",
       "      <td>3.614</td>\n",
       "      <td>8.680</td>\n",
       "      <td>38.86</td>\n",
       "      <td>29.49</td>\n",
       "      <td>8.0</td>\n",
       "      <td>...</td>\n",
       "      <td>5.277</td>\n",
       "      <td>36.02</td>\n",
       "      <td>29.55</td>\n",
       "      <td>20.0</td>\n",
       "      <td>3.432</td>\n",
       "      <td>9.590</td>\n",
       "      <td>40.24</td>\n",
       "      <td>29.57</td>\n",
       "      <td>16.0</td>\n",
       "      <td>7.0</td>\n",
       "    </tr>\n",
       "    <tr>\n",
       "      <th>2017-04-01 10:00:00</th>\n",
       "      <td>3.614</td>\n",
       "      <td>8.68</td>\n",
       "      <td>38.86</td>\n",
       "      <td>29.49</td>\n",
       "      <td>8.0</td>\n",
       "      <td>2.051</td>\n",
       "      <td>4.716</td>\n",
       "      <td>36.87</td>\n",
       "      <td>29.49</td>\n",
       "      <td>11.0</td>\n",
       "      <td>...</td>\n",
       "      <td>9.590</td>\n",
       "      <td>40.24</td>\n",
       "      <td>29.57</td>\n",
       "      <td>16.0</td>\n",
       "      <td>4.208</td>\n",
       "      <td>7.870</td>\n",
       "      <td>43.56</td>\n",
       "      <td>29.58</td>\n",
       "      <td>7.0</td>\n",
       "      <td>6.0</td>\n",
       "    </tr>\n",
       "  </tbody>\n",
       "</table>\n",
       "<p>5 rows × 31 columns</p>\n",
       "</div>"
      ],
      "text/plain": [
       "                     AWS Mph WVc (t-6)  Gust Mph Max (t-6)  \\\n",
       "2017-04-01 06:00:00              5.989               15.55   \n",
       "2017-04-01 07:00:00              5.059               11.30   \n",
       "2017-04-01 08:00:00              5.390               11.30   \n",
       "2017-04-01 09:00:00              5.233               11.59   \n",
       "2017-04-01 10:00:00              3.614                8.68   \n",
       "\n",
       "                     AvgT Deg_F Avg (t-6)  ABP InHg Avg (t-6)  \\\n",
       "2017-04-01 06:00:00                 38.74               29.41   \n",
       "2017-04-01 07:00:00                 39.46               29.44   \n",
       "2017-04-01 08:00:00                 39.08               29.45   \n",
       "2017-04-01 09:00:00                 38.95               29.47   \n",
       "2017-04-01 10:00:00                 38.86               29.49   \n",
       "\n",
       "                     Sample Value (t-6)  AWS Mph WVc (t-5)  \\\n",
       "2017-04-01 06:00:00                 4.0              5.059   \n",
       "2017-04-01 07:00:00                 6.0              5.390   \n",
       "2017-04-01 08:00:00                 7.0              5.233   \n",
       "2017-04-01 09:00:00                 6.0              3.614   \n",
       "2017-04-01 10:00:00                 8.0              2.051   \n",
       "\n",
       "                     Gust Mph Max (t-5)  AvgT Deg_F Avg (t-5)  \\\n",
       "2017-04-01 06:00:00              11.300                 39.46   \n",
       "2017-04-01 07:00:00              11.300                 39.08   \n",
       "2017-04-01 08:00:00              11.590                 38.95   \n",
       "2017-04-01 09:00:00               8.680                 38.86   \n",
       "2017-04-01 10:00:00               4.716                 36.87   \n",
       "\n",
       "                     ABP InHg Avg (t-5)  Sample Value (t-5)  ...  \\\n",
       "2017-04-01 06:00:00               29.44                 6.0  ...   \n",
       "2017-04-01 07:00:00               29.45                 7.0  ...   \n",
       "2017-04-01 08:00:00               29.47                 6.0  ...   \n",
       "2017-04-01 09:00:00               29.49                 8.0  ...   \n",
       "2017-04-01 10:00:00               29.49                11.0  ...   \n",
       "\n",
       "                     Gust Mph Max (t-2)  AvgT Deg_F Avg (t-2)  \\\n",
       "2017-04-01 06:00:00               8.680                 38.86   \n",
       "2017-04-01 07:00:00               4.716                 36.87   \n",
       "2017-04-01 08:00:00               4.190                 35.21   \n",
       "2017-04-01 09:00:00               5.277                 36.02   \n",
       "2017-04-01 10:00:00               9.590                 40.24   \n",
       "\n",
       "                     ABP InHg Avg (t-2)  Sample Value (t-2)  \\\n",
       "2017-04-01 06:00:00               29.49                 8.0   \n",
       "2017-04-01 07:00:00               29.49                11.0   \n",
       "2017-04-01 08:00:00               29.51                16.0   \n",
       "2017-04-01 09:00:00               29.55                20.0   \n",
       "2017-04-01 10:00:00               29.57                16.0   \n",
       "\n",
       "                     AWS Mph WVc (t-1)  Gust Mph Max (t-1)  \\\n",
       "2017-04-01 06:00:00              2.051               4.716   \n",
       "2017-04-01 07:00:00              2.134               4.190   \n",
       "2017-04-01 08:00:00              2.335               5.277   \n",
       "2017-04-01 09:00:00              3.432               9.590   \n",
       "2017-04-01 10:00:00              4.208               7.870   \n",
       "\n",
       "                     AvgT Deg_F Avg (t-1)  ABP InHg Avg (t-1)  \\\n",
       "2017-04-01 06:00:00                 36.87               29.49   \n",
       "2017-04-01 07:00:00                 35.21               29.51   \n",
       "2017-04-01 08:00:00                 36.02               29.55   \n",
       "2017-04-01 09:00:00                 40.24               29.57   \n",
       "2017-04-01 10:00:00                 43.56               29.58   \n",
       "\n",
       "                     Sample Value (t-1)  Sample Value (t)  \n",
       "2017-04-01 06:00:00                11.0              16.0  \n",
       "2017-04-01 07:00:00                16.0              20.0  \n",
       "2017-04-01 08:00:00                20.0              16.0  \n",
       "2017-04-01 09:00:00                16.0               7.0  \n",
       "2017-04-01 10:00:00                 7.0               6.0  \n",
       "\n",
       "[5 rows x 31 columns]"
      ]
     },
     "execution_count": 389,
     "metadata": {},
     "output_type": "execute_result"
    }
   ],
   "source": [
    "shifted_aqi_df = df_shift(aqi_df.copy(), 6, 1)\n",
    "shifted_aqi_df.head()"
   ]
  },
  {
   "cell_type": "markdown",
   "metadata": {},
   "source": [
    "Now, we'll bin the sample values at times t based on their concentrations. There are no defined standards for 1 hour levels that I could find. And as discussed in the readme, the EPA is already rather conservative with the 24 hour levels that they have defined. Here, I'll be rather conservative and say that anything over 50 $\\mu g / m^{3}$ should be considered harmful."
   ]
  },
  {
   "cell_type": "code",
   "execution_count": 390,
   "metadata": {},
   "outputs": [],
   "source": [
    "shifted_aqi_df['harmful'] = (shifted_aqi_df['Sample Value (t)'] > 50).astype(int)\n",
    "shifted_aqi_df.drop('Sample Value (t)', axis=1, inplace=True)"
   ]
  },
  {
   "cell_type": "code",
   "execution_count": 391,
   "metadata": {},
   "outputs": [],
   "source": [
    "shifted_aqi_df.reset_index(inplace=True)\n",
    "shifted_aqi_df.drop('index', axis=1, inplace=True)"
   ]
  },
  {
   "cell_type": "markdown",
   "metadata": {},
   "source": [
    "We can see here that there's a pretty large class imbalance. This will be addressed with random undersampling."
   ]
  },
  {
   "cell_type": "code",
   "execution_count": 392,
   "metadata": {},
   "outputs": [],
   "source": [
    "X = shifted_aqi_df[shifted_aqi_df.columns[:-1]]\n",
    "y = shifted_aqi_df[shifted_aqi_df.columns[-1]]"
   ]
  },
  {
   "cell_type": "code",
   "execution_count": 393,
   "metadata": {},
   "outputs": [],
   "source": [
    "X_train, X_test, y_train, y_test = train_test_split(X.values, y.values, test_size = 0.25, random_state=42)\n",
    "rus = RandomUnderSampler()\n",
    "X_rus, y_rus = rus.fit_sample(X_train, y_train)"
   ]
  },
  {
   "cell_type": "code",
   "execution_count": 394,
   "metadata": {},
   "outputs": [],
   "source": [
    "X_scaler = StandardScaler()\n",
    "X_rus_scaled = X_scaler.fit_transform(X_rus)\n",
    "X_test_scaled = X_scaler.transform(X_test)"
   ]
  },
  {
   "cell_type": "code",
   "execution_count": 395,
   "metadata": {},
   "outputs": [
    {
     "data": {
      "text/plain": [
       "RandomForestClassifier(bootstrap=True, ccp_alpha=0.0, class_weight=None,\n",
       "                       criterion='gini', max_depth=None, max_features='auto',\n",
       "                       max_leaf_nodes=None, max_samples=None,\n",
       "                       min_impurity_decrease=0.0, min_impurity_split=None,\n",
       "                       min_samples_leaf=1, min_samples_split=2,\n",
       "                       min_weight_fraction_leaf=0.0, n_estimators=100,\n",
       "                       n_jobs=None, oob_score=False, random_state=None,\n",
       "                       verbose=0, warm_start=False)"
      ]
     },
     "execution_count": 395,
     "metadata": {},
     "output_type": "execute_result"
    }
   ],
   "source": [
    "model = RandomForestClassifier(n_estimators=100, bootstrap=True)\n",
    "model.fit(X_rus_scaled, y_rus)"
   ]
  },
  {
   "cell_type": "code",
   "execution_count": 396,
   "metadata": {},
   "outputs": [],
   "source": [
    "y_pred = model.predict(X_test)"
   ]
  },
  {
   "cell_type": "code",
   "execution_count": 397,
   "metadata": {},
   "outputs": [],
   "source": [
    "from sklearn.metrics import roc_auc_score, roc_curve, confusion_matrix\n",
    "\n",
    "roc_value = roc_auc_score(y_test, y_pred)\n",
    "cm = confusion_matrix(y_test, y_pred)"
   ]
  },
  {
   "cell_type": "code",
   "execution_count": 398,
   "metadata": {},
   "outputs": [],
   "source": [
    "fpr, tpr, thresh = roc_curve(y_test, y_pred)"
   ]
  },
  {
   "cell_type": "code",
   "execution_count": 399,
   "metadata": {},
   "outputs": [
    {
     "data": {
      "text/plain": [
       "array([[4845,  247],\n",
       "       [ 698,   53]], dtype=int64)"
      ]
     },
     "execution_count": 399,
     "metadata": {},
     "output_type": "execute_result"
    }
   ],
   "source": [
    "cm"
   ]
  },
  {
   "cell_type": "code",
   "execution_count": 400,
   "metadata": {},
   "outputs": [
    {
     "data": {
      "text/plain": [
       "0.5110325536101119"
      ]
     },
     "execution_count": 400,
     "metadata": {},
     "output_type": "execute_result"
    }
   ],
   "source": [
    "roc_value"
   ]
  },
  {
   "cell_type": "code",
   "execution_count": 401,
   "metadata": {},
   "outputs": [
    {
     "data": {
      "text/plain": [
       "array([0, 0, 0, ..., 0, 0, 1])"
      ]
     },
     "execution_count": 401,
     "metadata": {},
     "output_type": "execute_result"
    }
   ],
   "source": [
    "y_test"
   ]
  },
  {
   "cell_type": "code",
   "execution_count": 402,
   "metadata": {},
   "outputs": [
    {
     "data": {
      "text/plain": [
       "array([0, 0, 0, ..., 0, 0, 0])"
      ]
     },
     "execution_count": 402,
     "metadata": {},
     "output_type": "execute_result"
    }
   ],
   "source": [
    "y_pred"
   ]
  }
 ],
 "metadata": {
  "kernelspec": {
   "display_name": "Python 3",
   "language": "python",
   "name": "python3"
  },
  "language_info": {
   "codemirror_mode": {
    "name": "ipython",
    "version": 3
   },
   "file_extension": ".py",
   "mimetype": "text/x-python",
   "name": "python",
   "nbconvert_exporter": "python",
   "pygments_lexer": "ipython3",
   "version": "3.7.3"
  }
 },
 "nbformat": 4,
 "nbformat_minor": 4
}
