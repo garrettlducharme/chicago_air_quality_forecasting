{
 "cells": [
  {
   "cell_type": "markdown",
   "metadata": {},
   "source": [
    "In this notebook we will be attempting to reshape the problem a bit. Instead of calculating air quality on an hourly level, we're instead going to use more traditional machine learning models in an attempt to classify if a future time period has poor air quality. The idea here is that while it may be hard to calculate exact air quality levels when there are so many outliers, we may be able to instead simply tell residents when we think conditions will be bad."
   ]
  },
  {
   "cell_type": "code",
   "execution_count": 643,
   "metadata": {},
   "outputs": [],
   "source": [
    "import os\n",
    "import pandas as pd\n",
    "import matplotlib.pyplot as plt\n",
    "import numpy as np\n",
    "import seaborn as sns\n",
    "\n",
    "from sklearn.model_selection import train_test_split\n",
    "from sklearn.preprocessing import MinMaxScaler, StandardScaler\n",
    "from sklearn.ensemble import RandomForestClassifier\n",
    "from sklearn.svm import SVC\n",
    "from sklearn.neighbors import KNeighborsClassifier\n",
    "from sklearn.linear_model import LogisticRegression\n",
    "from xgboost import XGBClassifier\n",
    "from imblearn.under_sampling import RandomUnderSampler"
   ]
  },
  {
   "cell_type": "code",
   "execution_count": 602,
   "metadata": {},
   "outputs": [],
   "source": [
    "aqi_df = pd.read_csv(\"../data/sh_bell/combined_meteor_and_sample.csv\", index_col='Unnamed: 0', parse_dates=True)"
   ]
  },
  {
   "cell_type": "code",
   "execution_count": 603,
   "metadata": {},
   "outputs": [],
   "source": [
    "aqi_df.drop(columns = ['AWD_cos', 'AWD_sin'], inplace=True)"
   ]
  },
  {
   "cell_type": "code",
   "execution_count": 604,
   "metadata": {},
   "outputs": [
    {
     "data": {
      "text/html": [
       "<div>\n",
       "<style scoped>\n",
       "    .dataframe tbody tr th:only-of-type {\n",
       "        vertical-align: middle;\n",
       "    }\n",
       "\n",
       "    .dataframe tbody tr th {\n",
       "        vertical-align: top;\n",
       "    }\n",
       "\n",
       "    .dataframe thead th {\n",
       "        text-align: right;\n",
       "    }\n",
       "</style>\n",
       "<table border=\"1\" class=\"dataframe\">\n",
       "  <thead>\n",
       "    <tr style=\"text-align: right;\">\n",
       "      <th></th>\n",
       "      <th>AWS Mph WVc</th>\n",
       "      <th>Gust Mph Max</th>\n",
       "      <th>AvgT Deg_F Avg</th>\n",
       "      <th>ABP InHg Avg</th>\n",
       "      <th>Sample Value</th>\n",
       "    </tr>\n",
       "  </thead>\n",
       "  <tbody>\n",
       "    <tr>\n",
       "      <th>2017-04-01 00:00:00</th>\n",
       "      <td>5.989</td>\n",
       "      <td>15.55</td>\n",
       "      <td>38.74</td>\n",
       "      <td>29.41</td>\n",
       "      <td>4.0</td>\n",
       "    </tr>\n",
       "    <tr>\n",
       "      <th>2017-04-01 01:00:00</th>\n",
       "      <td>5.059</td>\n",
       "      <td>11.30</td>\n",
       "      <td>39.46</td>\n",
       "      <td>29.44</td>\n",
       "      <td>6.0</td>\n",
       "    </tr>\n",
       "    <tr>\n",
       "      <th>2017-04-01 02:00:00</th>\n",
       "      <td>5.390</td>\n",
       "      <td>11.30</td>\n",
       "      <td>39.08</td>\n",
       "      <td>29.45</td>\n",
       "      <td>7.0</td>\n",
       "    </tr>\n",
       "    <tr>\n",
       "      <th>2017-04-01 03:00:00</th>\n",
       "      <td>5.233</td>\n",
       "      <td>11.59</td>\n",
       "      <td>38.95</td>\n",
       "      <td>29.47</td>\n",
       "      <td>6.0</td>\n",
       "    </tr>\n",
       "    <tr>\n",
       "      <th>2017-04-01 04:00:00</th>\n",
       "      <td>3.614</td>\n",
       "      <td>8.68</td>\n",
       "      <td>38.86</td>\n",
       "      <td>29.49</td>\n",
       "      <td>8.0</td>\n",
       "    </tr>\n",
       "  </tbody>\n",
       "</table>\n",
       "</div>"
      ],
      "text/plain": [
       "                     AWS Mph WVc  Gust Mph Max  AvgT Deg_F Avg  ABP InHg Avg  \\\n",
       "2017-04-01 00:00:00        5.989         15.55           38.74         29.41   \n",
       "2017-04-01 01:00:00        5.059         11.30           39.46         29.44   \n",
       "2017-04-01 02:00:00        5.390         11.30           39.08         29.45   \n",
       "2017-04-01 03:00:00        5.233         11.59           38.95         29.47   \n",
       "2017-04-01 04:00:00        3.614          8.68           38.86         29.49   \n",
       "\n",
       "                     Sample Value  \n",
       "2017-04-01 00:00:00           4.0  \n",
       "2017-04-01 01:00:00           6.0  \n",
       "2017-04-01 02:00:00           7.0  \n",
       "2017-04-01 03:00:00           6.0  \n",
       "2017-04-01 04:00:00           8.0  "
      ]
     },
     "execution_count": 604,
     "metadata": {},
     "output_type": "execute_result"
    }
   ],
   "source": [
    "aqi_df.head()"
   ]
  },
  {
   "cell_type": "code",
   "execution_count": 605,
   "metadata": {},
   "outputs": [
    {
     "data": {
      "text/html": [
       "<div>\n",
       "<style scoped>\n",
       "    .dataframe tbody tr th:only-of-type {\n",
       "        vertical-align: middle;\n",
       "    }\n",
       "\n",
       "    .dataframe tbody tr th {\n",
       "        vertical-align: top;\n",
       "    }\n",
       "\n",
       "    .dataframe thead th {\n",
       "        text-align: right;\n",
       "    }\n",
       "</style>\n",
       "<table border=\"1\" class=\"dataframe\">\n",
       "  <thead>\n",
       "    <tr style=\"text-align: right;\">\n",
       "      <th></th>\n",
       "      <th>AWS Mph WVc</th>\n",
       "      <th>Gust Mph Max</th>\n",
       "      <th>AvgT Deg_F Avg</th>\n",
       "      <th>ABP InHg Avg</th>\n",
       "      <th>Sample Value</th>\n",
       "      <th>weekday</th>\n",
       "      <th>work_hour</th>\n",
       "    </tr>\n",
       "  </thead>\n",
       "  <tbody>\n",
       "    <tr>\n",
       "      <th>2017-04-01 00:00:00</th>\n",
       "      <td>5.989</td>\n",
       "      <td>15.55</td>\n",
       "      <td>38.74</td>\n",
       "      <td>29.41</td>\n",
       "      <td>4.0</td>\n",
       "      <td>0</td>\n",
       "      <td>0</td>\n",
       "    </tr>\n",
       "    <tr>\n",
       "      <th>2017-04-01 01:00:00</th>\n",
       "      <td>5.059</td>\n",
       "      <td>11.30</td>\n",
       "      <td>39.46</td>\n",
       "      <td>29.44</td>\n",
       "      <td>6.0</td>\n",
       "      <td>0</td>\n",
       "      <td>0</td>\n",
       "    </tr>\n",
       "    <tr>\n",
       "      <th>2017-04-01 02:00:00</th>\n",
       "      <td>5.390</td>\n",
       "      <td>11.30</td>\n",
       "      <td>39.08</td>\n",
       "      <td>29.45</td>\n",
       "      <td>7.0</td>\n",
       "      <td>0</td>\n",
       "      <td>0</td>\n",
       "    </tr>\n",
       "    <tr>\n",
       "      <th>2017-04-01 03:00:00</th>\n",
       "      <td>5.233</td>\n",
       "      <td>11.59</td>\n",
       "      <td>38.95</td>\n",
       "      <td>29.47</td>\n",
       "      <td>6.0</td>\n",
       "      <td>0</td>\n",
       "      <td>0</td>\n",
       "    </tr>\n",
       "    <tr>\n",
       "      <th>2017-04-01 04:00:00</th>\n",
       "      <td>3.614</td>\n",
       "      <td>8.68</td>\n",
       "      <td>38.86</td>\n",
       "      <td>29.49</td>\n",
       "      <td>8.0</td>\n",
       "      <td>0</td>\n",
       "      <td>0</td>\n",
       "    </tr>\n",
       "  </tbody>\n",
       "</table>\n",
       "</div>"
      ],
      "text/plain": [
       "                     AWS Mph WVc  Gust Mph Max  AvgT Deg_F Avg  ABP InHg Avg  \\\n",
       "2017-04-01 00:00:00        5.989         15.55           38.74         29.41   \n",
       "2017-04-01 01:00:00        5.059         11.30           39.46         29.44   \n",
       "2017-04-01 02:00:00        5.390         11.30           39.08         29.45   \n",
       "2017-04-01 03:00:00        5.233         11.59           38.95         29.47   \n",
       "2017-04-01 04:00:00        3.614          8.68           38.86         29.49   \n",
       "\n",
       "                     Sample Value  weekday  work_hour  \n",
       "2017-04-01 00:00:00           4.0        0          0  \n",
       "2017-04-01 01:00:00           6.0        0          0  \n",
       "2017-04-01 02:00:00           7.0        0          0  \n",
       "2017-04-01 03:00:00           6.0        0          0  \n",
       "2017-04-01 04:00:00           8.0        0          0  "
      ]
     },
     "execution_count": 605,
     "metadata": {},
     "output_type": "execute_result"
    }
   ],
   "source": [
    "aqi_df['weekday'] = (aqi_df.index.dayofweek < 5).astype(int)\n",
    "aqi_df['work_hour'] = ((aqi_df.index.hour >= 5) & (aqi_df.index.hour <=15)).astype(int)\n",
    "aqi_df.head()"
   ]
  },
  {
   "cell_type": "code",
   "execution_count": 662,
   "metadata": {},
   "outputs": [],
   "source": [
    "def df_shift(df, n_lags=1, n_obs=1):\n",
    "    \"\"\"\n",
    "    Returns a dataframe with n_lags for all variables and n_obs for the sample value\n",
    "    \"\"\"\n",
    "    n_vars = df.shape[1]\n",
    "    cols, col_names = [], []\n",
    "    # lags\n",
    "    for i in range(n_lags, 0, -1):\n",
    "        cols.append(df.shift(i))\n",
    "        col_names += [f'{col} (t-{i})' for col in df.columns]\n",
    "    # observations\n",
    "    for i in range(0, n_obs):\n",
    "        cols.append(df['Sample Value'].shift(-i))\n",
    "        if i == 0:\n",
    "            col_names.append('Sample Value (t)')\n",
    "        else:\n",
    "            col_names.append(f'Sample Value (t+{i})')\n",
    "            \n",
    "    shifted_df = pd.concat(cols, axis=1)\n",
    "    shifted_df.columns = col_names\n",
    "    shifted_df.dropna(inplace=True)\n",
    "    \n",
    "    return shifted_df"
   ]
  },
  {
   "cell_type": "markdown",
   "metadata": {},
   "source": [
    "With this function, we can generate dataframes that have features from t - n_lags to t - 1, and observations from t to t + n_obs."
   ]
  },
  {
   "cell_type": "code",
   "execution_count": 679,
   "metadata": {},
   "outputs": [
    {
     "data": {
      "text/html": [
       "<div>\n",
       "<style scoped>\n",
       "    .dataframe tbody tr th:only-of-type {\n",
       "        vertical-align: middle;\n",
       "    }\n",
       "\n",
       "    .dataframe tbody tr th {\n",
       "        vertical-align: top;\n",
       "    }\n",
       "\n",
       "    .dataframe thead th {\n",
       "        text-align: right;\n",
       "    }\n",
       "</style>\n",
       "<table border=\"1\" class=\"dataframe\">\n",
       "  <thead>\n",
       "    <tr style=\"text-align: right;\">\n",
       "      <th></th>\n",
       "      <th>AWS Mph WVc (t-4)</th>\n",
       "      <th>Gust Mph Max (t-4)</th>\n",
       "      <th>AvgT Deg_F Avg (t-4)</th>\n",
       "      <th>ABP InHg Avg (t-4)</th>\n",
       "      <th>Sample Value (t-4)</th>\n",
       "      <th>weekday (t-4)</th>\n",
       "      <th>work_hour (t-4)</th>\n",
       "      <th>AWS Mph WVc (t-3)</th>\n",
       "      <th>Gust Mph Max (t-3)</th>\n",
       "      <th>AvgT Deg_F Avg (t-3)</th>\n",
       "      <th>...</th>\n",
       "      <th>weekday (t-2)</th>\n",
       "      <th>work_hour (t-2)</th>\n",
       "      <th>AWS Mph WVc (t-1)</th>\n",
       "      <th>Gust Mph Max (t-1)</th>\n",
       "      <th>AvgT Deg_F Avg (t-1)</th>\n",
       "      <th>ABP InHg Avg (t-1)</th>\n",
       "      <th>Sample Value (t-1)</th>\n",
       "      <th>weekday (t-1)</th>\n",
       "      <th>work_hour (t-1)</th>\n",
       "      <th>Sample Value (t)</th>\n",
       "    </tr>\n",
       "  </thead>\n",
       "  <tbody>\n",
       "    <tr>\n",
       "      <th>2017-04-01 04:00:00</th>\n",
       "      <td>5.989</td>\n",
       "      <td>15.55</td>\n",
       "      <td>38.74</td>\n",
       "      <td>29.41</td>\n",
       "      <td>4.0</td>\n",
       "      <td>0.0</td>\n",
       "      <td>0.0</td>\n",
       "      <td>5.059</td>\n",
       "      <td>11.300</td>\n",
       "      <td>39.46</td>\n",
       "      <td>...</td>\n",
       "      <td>0.0</td>\n",
       "      <td>0.0</td>\n",
       "      <td>5.233</td>\n",
       "      <td>11.590</td>\n",
       "      <td>38.95</td>\n",
       "      <td>29.47</td>\n",
       "      <td>6.0</td>\n",
       "      <td>0.0</td>\n",
       "      <td>0.0</td>\n",
       "      <td>8.0</td>\n",
       "    </tr>\n",
       "    <tr>\n",
       "      <th>2017-04-01 05:00:00</th>\n",
       "      <td>5.059</td>\n",
       "      <td>11.30</td>\n",
       "      <td>39.46</td>\n",
       "      <td>29.44</td>\n",
       "      <td>6.0</td>\n",
       "      <td>0.0</td>\n",
       "      <td>0.0</td>\n",
       "      <td>5.390</td>\n",
       "      <td>11.300</td>\n",
       "      <td>39.08</td>\n",
       "      <td>...</td>\n",
       "      <td>0.0</td>\n",
       "      <td>0.0</td>\n",
       "      <td>3.614</td>\n",
       "      <td>8.680</td>\n",
       "      <td>38.86</td>\n",
       "      <td>29.49</td>\n",
       "      <td>8.0</td>\n",
       "      <td>0.0</td>\n",
       "      <td>0.0</td>\n",
       "      <td>11.0</td>\n",
       "    </tr>\n",
       "    <tr>\n",
       "      <th>2017-04-01 06:00:00</th>\n",
       "      <td>5.390</td>\n",
       "      <td>11.30</td>\n",
       "      <td>39.08</td>\n",
       "      <td>29.45</td>\n",
       "      <td>7.0</td>\n",
       "      <td>0.0</td>\n",
       "      <td>0.0</td>\n",
       "      <td>5.233</td>\n",
       "      <td>11.590</td>\n",
       "      <td>38.95</td>\n",
       "      <td>...</td>\n",
       "      <td>0.0</td>\n",
       "      <td>0.0</td>\n",
       "      <td>2.051</td>\n",
       "      <td>4.716</td>\n",
       "      <td>36.87</td>\n",
       "      <td>29.49</td>\n",
       "      <td>11.0</td>\n",
       "      <td>0.0</td>\n",
       "      <td>1.0</td>\n",
       "      <td>16.0</td>\n",
       "    </tr>\n",
       "    <tr>\n",
       "      <th>2017-04-01 07:00:00</th>\n",
       "      <td>5.233</td>\n",
       "      <td>11.59</td>\n",
       "      <td>38.95</td>\n",
       "      <td>29.47</td>\n",
       "      <td>6.0</td>\n",
       "      <td>0.0</td>\n",
       "      <td>0.0</td>\n",
       "      <td>3.614</td>\n",
       "      <td>8.680</td>\n",
       "      <td>38.86</td>\n",
       "      <td>...</td>\n",
       "      <td>0.0</td>\n",
       "      <td>1.0</td>\n",
       "      <td>2.134</td>\n",
       "      <td>4.190</td>\n",
       "      <td>35.21</td>\n",
       "      <td>29.51</td>\n",
       "      <td>16.0</td>\n",
       "      <td>0.0</td>\n",
       "      <td>1.0</td>\n",
       "      <td>20.0</td>\n",
       "    </tr>\n",
       "    <tr>\n",
       "      <th>2017-04-01 08:00:00</th>\n",
       "      <td>3.614</td>\n",
       "      <td>8.68</td>\n",
       "      <td>38.86</td>\n",
       "      <td>29.49</td>\n",
       "      <td>8.0</td>\n",
       "      <td>0.0</td>\n",
       "      <td>0.0</td>\n",
       "      <td>2.051</td>\n",
       "      <td>4.716</td>\n",
       "      <td>36.87</td>\n",
       "      <td>...</td>\n",
       "      <td>0.0</td>\n",
       "      <td>1.0</td>\n",
       "      <td>2.335</td>\n",
       "      <td>5.277</td>\n",
       "      <td>36.02</td>\n",
       "      <td>29.55</td>\n",
       "      <td>20.0</td>\n",
       "      <td>0.0</td>\n",
       "      <td>1.0</td>\n",
       "      <td>16.0</td>\n",
       "    </tr>\n",
       "  </tbody>\n",
       "</table>\n",
       "<p>5 rows × 29 columns</p>\n",
       "</div>"
      ],
      "text/plain": [
       "                     AWS Mph WVc (t-4)  Gust Mph Max (t-4)  \\\n",
       "2017-04-01 04:00:00              5.989               15.55   \n",
       "2017-04-01 05:00:00              5.059               11.30   \n",
       "2017-04-01 06:00:00              5.390               11.30   \n",
       "2017-04-01 07:00:00              5.233               11.59   \n",
       "2017-04-01 08:00:00              3.614                8.68   \n",
       "\n",
       "                     AvgT Deg_F Avg (t-4)  ABP InHg Avg (t-4)  \\\n",
       "2017-04-01 04:00:00                 38.74               29.41   \n",
       "2017-04-01 05:00:00                 39.46               29.44   \n",
       "2017-04-01 06:00:00                 39.08               29.45   \n",
       "2017-04-01 07:00:00                 38.95               29.47   \n",
       "2017-04-01 08:00:00                 38.86               29.49   \n",
       "\n",
       "                     Sample Value (t-4)  weekday (t-4)  work_hour (t-4)  \\\n",
       "2017-04-01 04:00:00                 4.0            0.0              0.0   \n",
       "2017-04-01 05:00:00                 6.0            0.0              0.0   \n",
       "2017-04-01 06:00:00                 7.0            0.0              0.0   \n",
       "2017-04-01 07:00:00                 6.0            0.0              0.0   \n",
       "2017-04-01 08:00:00                 8.0            0.0              0.0   \n",
       "\n",
       "                     AWS Mph WVc (t-3)  Gust Mph Max (t-3)  \\\n",
       "2017-04-01 04:00:00              5.059              11.300   \n",
       "2017-04-01 05:00:00              5.390              11.300   \n",
       "2017-04-01 06:00:00              5.233              11.590   \n",
       "2017-04-01 07:00:00              3.614               8.680   \n",
       "2017-04-01 08:00:00              2.051               4.716   \n",
       "\n",
       "                     AvgT Deg_F Avg (t-3)  ...  weekday (t-2)  \\\n",
       "2017-04-01 04:00:00                 39.46  ...            0.0   \n",
       "2017-04-01 05:00:00                 39.08  ...            0.0   \n",
       "2017-04-01 06:00:00                 38.95  ...            0.0   \n",
       "2017-04-01 07:00:00                 38.86  ...            0.0   \n",
       "2017-04-01 08:00:00                 36.87  ...            0.0   \n",
       "\n",
       "                     work_hour (t-2)  AWS Mph WVc (t-1)  Gust Mph Max (t-1)  \\\n",
       "2017-04-01 04:00:00              0.0              5.233              11.590   \n",
       "2017-04-01 05:00:00              0.0              3.614               8.680   \n",
       "2017-04-01 06:00:00              0.0              2.051               4.716   \n",
       "2017-04-01 07:00:00              1.0              2.134               4.190   \n",
       "2017-04-01 08:00:00              1.0              2.335               5.277   \n",
       "\n",
       "                     AvgT Deg_F Avg (t-1)  ABP InHg Avg (t-1)  \\\n",
       "2017-04-01 04:00:00                 38.95               29.47   \n",
       "2017-04-01 05:00:00                 38.86               29.49   \n",
       "2017-04-01 06:00:00                 36.87               29.49   \n",
       "2017-04-01 07:00:00                 35.21               29.51   \n",
       "2017-04-01 08:00:00                 36.02               29.55   \n",
       "\n",
       "                     Sample Value (t-1)  weekday (t-1)  work_hour (t-1)  \\\n",
       "2017-04-01 04:00:00                 6.0            0.0              0.0   \n",
       "2017-04-01 05:00:00                 8.0            0.0              0.0   \n",
       "2017-04-01 06:00:00                11.0            0.0              1.0   \n",
       "2017-04-01 07:00:00                16.0            0.0              1.0   \n",
       "2017-04-01 08:00:00                20.0            0.0              1.0   \n",
       "\n",
       "                     Sample Value (t)  \n",
       "2017-04-01 04:00:00               8.0  \n",
       "2017-04-01 05:00:00              11.0  \n",
       "2017-04-01 06:00:00              16.0  \n",
       "2017-04-01 07:00:00              20.0  \n",
       "2017-04-01 08:00:00              16.0  \n",
       "\n",
       "[5 rows x 29 columns]"
      ]
     },
     "execution_count": 679,
     "metadata": {},
     "output_type": "execute_result"
    }
   ],
   "source": [
    "shifted_aqi_df = df_shift(aqi_df.copy(), 4, 1)\n",
    "shifted_aqi_df.head()"
   ]
  },
  {
   "cell_type": "markdown",
   "metadata": {},
   "source": [
    "Now, we'll bin the sample values at times t based on their concentrations. There are no defined standards for 1 hour levels that I could find. And as discussed in the readme, the EPA is already rather conservative with the 24 hour levels that they have defined. Here, I'll be rather conservative and say that anything over 50 $\\mu g / m^{3}$ should be considered harmful."
   ]
  },
  {
   "cell_type": "code",
   "execution_count": 680,
   "metadata": {},
   "outputs": [],
   "source": [
    "shifted_aqi_df['harmful'] = (shifted_aqi_df['Sample Value (t)'] > 30).astype(int)\n",
    "shifted_aqi_df.drop('Sample Value (t)', axis=1, inplace=True)"
   ]
  },
  {
   "cell_type": "code",
   "execution_count": 681,
   "metadata": {},
   "outputs": [],
   "source": [
    "shifted_aqi_df.reset_index(inplace=True)\n",
    "shifted_aqi_df.drop('index', axis=1, inplace=True)"
   ]
  },
  {
   "cell_type": "code",
   "execution_count": 682,
   "metadata": {},
   "outputs": [
    {
     "data": {
      "text/plain": [
       "0    16822\n",
       "1     6550\n",
       "Name: harmful, dtype: int64"
      ]
     },
     "execution_count": 682,
     "metadata": {},
     "output_type": "execute_result"
    }
   ],
   "source": [
    "shifted_aqi_df['harmful'].value_counts()"
   ]
  },
  {
   "cell_type": "markdown",
   "metadata": {},
   "source": [
    "We can see here that there's a little bit of a class imbalance. This will maybe be addressed with random undersampling."
   ]
  },
  {
   "cell_type": "code",
   "execution_count": 683,
   "metadata": {},
   "outputs": [],
   "source": [
    "cat_names = ['weekday', 'work_hour']\n",
    "cat_cols = []\n",
    "for name in cat_names:\n",
    "    for col in shifted_aqi_df.columns:\n",
    "        if name in col:\n",
    "            cat_cols.append(col)"
   ]
  },
  {
   "cell_type": "code",
   "execution_count": 684,
   "metadata": {},
   "outputs": [],
   "source": [
    "X = shifted_aqi_df[shifted_aqi_df.columns[:-1]]\n",
    "y = shifted_aqi_df[shifted_aqi_df.columns[-1]]"
   ]
  },
  {
   "cell_type": "code",
   "execution_count": 685,
   "metadata": {},
   "outputs": [],
   "source": [
    "X_train, X_test, y_train, y_test = train_test_split(X, y, test_size = 0.20, random_state=42)\n",
    "X_train_num = X_train.drop(cat_cols, axis=1)\n",
    "X_train_cat = X_train[cat_cols]\n",
    "X_test_num = X_test.drop(cat_cols, axis=1)\n",
    "X_test_cat = X_test[cat_cols]\n",
    "\n",
    "X_scaler = StandardScaler()\n",
    "X_train_num_scaled = X_scaler.fit_transform(X_train_num)\n",
    "X_test_num_scaled = X_scaler.transform(X_test_num)\n",
    "\n",
    "X_train_scaled = np.concatenate((X_train_num_scaled, X_train_cat.values), axis=1)\n",
    "X_test_scaled = np.concatenate((X_test_num_scaled, X_test_cat.values), axis=1)\n",
    "# rus = RandomUnderSampler()\n",
    "# X_rus, y_rus = rus.fit_sample(X_train, y_train)"
   ]
  },
  {
   "cell_type": "code",
   "execution_count": 686,
   "metadata": {},
   "outputs": [
    {
     "data": {
      "text/plain": [
       "XGBClassifier(base_score=0.5, booster='gbtree', colsample_bylevel=1,\n",
       "              colsample_bynode=1, colsample_bytree=1, gamma=0,\n",
       "              learning_rate=0.1, max_delta_step=0, max_depth=3,\n",
       "              min_child_weight=1, missing=None, n_estimators=100, n_jobs=1,\n",
       "              nthread=None, objective='binary:logistic', random_state=0,\n",
       "              reg_alpha=0, reg_lambda=1, scale_pos_weight=1, seed=None,\n",
       "              silent=None, subsample=1, verbosity=1)"
      ]
     },
     "execution_count": 686,
     "metadata": {},
     "output_type": "execute_result"
    }
   ],
   "source": [
    "# model = RandomForestClassifier(n_estimators=100, bootstrap=True)\n",
    "model = XGBClassifier()\n",
    "model.fit(X_train_scaled, y_train)"
   ]
  },
  {
   "cell_type": "code",
   "execution_count": 687,
   "metadata": {},
   "outputs": [],
   "source": [
    "y_pred = model.predict(X_test_scaled)"
   ]
  },
  {
   "cell_type": "code",
   "execution_count": 688,
   "metadata": {},
   "outputs": [],
   "source": [
    "from sklearn.metrics import roc_auc_score, roc_curve, confusion_matrix, accuracy_score\n",
    "\n",
    "roc_value = roc_auc_score(y_test, y_pred)\n",
    "cm = confusion_matrix(y_test, y_pred)"
   ]
  },
  {
   "cell_type": "code",
   "execution_count": 689,
   "metadata": {},
   "outputs": [],
   "source": [
    "fpr, tpr, thresh = roc_curve(y_test, y_pred)"
   ]
  },
  {
   "cell_type": "code",
   "execution_count": 690,
   "metadata": {},
   "outputs": [
    {
     "data": {
      "text/plain": [
       "array([[3097,  277],\n",
       "       [ 375,  926]], dtype=int64)"
      ]
     },
     "execution_count": 690,
     "metadata": {},
     "output_type": "execute_result"
    }
   ],
   "source": [
    "cm"
   ]
  },
  {
   "cell_type": "code",
   "execution_count": 691,
   "metadata": {},
   "outputs": [
    {
     "data": {
      "text/plain": [
       "0.8148308924738481"
      ]
     },
     "execution_count": 691,
     "metadata": {},
     "output_type": "execute_result"
    }
   ],
   "source": [
    "roc_value"
   ]
  },
  {
   "cell_type": "code",
   "execution_count": 692,
   "metadata": {},
   "outputs": [
    {
     "data": {
      "text/plain": [
       "[<matplotlib.lines.Line2D at 0x1e081166898>]"
      ]
     },
     "execution_count": 692,
     "metadata": {},
     "output_type": "execute_result"
    },
    {
     "data": {
      "image/png": "[encoded data removed]",
      "text/plain": [
       "<Figure size 432x288 with 1 Axes>"
      ]
     },
     "metadata": {
      "needs_background": "light"
     },
     "output_type": "display_data"
    }
   ],
   "source": [
    "plt.plot(fpr, tpr)"
   ]
  },
  {
   "cell_type": "code",
   "execution_count": 693,
   "metadata": {},
   "outputs": [
    {
     "data": {
      "text/plain": [
       "0.8605347593582888"
      ]
     },
     "execution_count": 693,
     "metadata": {},
     "output_type": "execute_result"
    }
   ],
   "source": [
    "accuracy_score(y_pred, y_test)"
   ]
  },
  {
   "cell_type": "code",
   "execution_count": 694,
   "metadata": {},
   "outputs": [
    {
     "data": {
      "text/plain": [
       "array([0, 0, 1, ..., 1, 0, 1])"
      ]
     },
     "execution_count": 694,
     "metadata": {},
     "output_type": "execute_result"
    }
   ],
   "source": [
    "y_pred"
   ]
  },
  {
   "cell_type": "code",
   "execution_count": null,
   "metadata": {},
   "outputs": [],
   "source": []
  }
 ],
 "metadata": {
  "kernelspec": {
   "display_name": "Python 3",
   "language": "python",
   "name": "python3"
  },
  "language_info": {
   "codemirror_mode": {
    "name": "ipython",
    "version": 3
   },
   "file_extension": ".py",
   "mimetype": "text/x-python",
   "name": "python",
   "nbconvert_exporter": "python",
   "pygments_lexer": "ipython3",
   "version": "3.7.3"
  }
 },
 "nbformat": 4,
 "nbformat_minor": 4
}
