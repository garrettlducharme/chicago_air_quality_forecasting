{
 "cells": [
  {
   "cell_type": "markdown",
   "metadata": {},
   "source": [
    "### GRU RNN Implementation"
   ]
  },
  {
   "cell_type": "markdown",
   "metadata": {},
   "source": [
    "In this notebook we will implement a GRU RNN in order to forecast the AQI with all of the available meteorological data at the Chicago SH Bell monitoring site."
   ]
  },
  {
   "cell_type": "code",
   "execution_count": 144,
   "metadata": {},
   "outputs": [],
   "source": [
    "import os\n",
    "import pandas as pd\n",
    "import numpy as np\n",
    "import tensorflow as tf\n",
    "import matplotlib.pyplot as plt\n",
    "import seaborn as sns\n",
    "from sklearn.preprocessing import MinMaxScaler\n",
    "\n",
    "import keras\n",
    "from keras.models import Sequential\n",
    "from keras.layers import Input, Dense, GRU, LSTM, Embedding, Dropout, BatchNormalization\n",
    "from keras.optimizers import RMSprop\n",
    "from keras.callbacks import EarlyStopping, ModelCheckpoint, TensorBoard, ReduceLROnPlateau\n",
    "from keras.preprocessing.sequence import TimeseriesGenerator\n",
    "from google.cloud import storage"
   ]
  },
  {
   "cell_type": "code",
   "execution_count": 145,
   "metadata": {},
   "outputs": [
    {
     "data": {
      "text/plain": [
       "[PhysicalDevice(name='/physical_device:GPU:0', device_type='GPU'),\n",
       " PhysicalDevice(name='/physical_device:GPU:1', device_type='GPU'),\n",
       " PhysicalDevice(name='/physical_device:GPU:2', device_type='GPU'),\n",
       " PhysicalDevice(name='/physical_device:GPU:3', device_type='GPU')]"
      ]
     },
     "execution_count": 145,
     "metadata": {},
     "output_type": "execute_result"
    }
   ],
   "source": [
    "tf.config.list_physical_devices('GPU')"
   ]
  },
  {
   "cell_type": "code",
   "execution_count": 146,
   "metadata": {},
   "outputs": [
    {
     "name": "stdout",
     "output_type": "stream",
     "text": [
      "2.1.0\n",
      "2.2.4-tf\n"
     ]
    }
   ],
   "source": [
    "print(tf.__version__)\n",
    "print(tf.keras.__version__)"
   ]
  },
  {
   "cell_type": "markdown",
   "metadata": {},
   "source": [
    "#### Making Train/Test Splits"
   ]
  },
  {
   "cell_type": "code",
   "execution_count": 147,
   "metadata": {},
   "outputs": [],
   "source": [
    "aqi_df = pd.read_csv('./data/SH_Bell/combined_meteor_and_sample.csv', index_col='Unnamed: 0', parse_dates=True)\n",
    "aqi_df_4h = aqi_df.resample('4h').mean()"
   ]
  },
  {
   "cell_type": "code",
   "execution_count": 148,
   "metadata": {},
   "outputs": [],
   "source": [
    "target_names = ['Sample Value']\n",
    "shift_days = 1\n",
    "shift_steps = shift_days*12 # Number of hours\n",
    "aqi_df_targets = aqi_df[target_names].shift(-shift_steps)"
   ]
  },
  {
   "cell_type": "markdown",
   "metadata": {},
   "source": [
    "#### Scaling the Data"
   ]
  },
  {
   "cell_type": "code",
   "execution_count": 149,
   "metadata": {},
   "outputs": [],
   "source": [
    "def log_trans(y):\n",
    "    y = np.array(y)\n",
    "    return np.log10(y + 1)\n",
    "\n",
    "def inv_log_trans(y):\n",
    "    y = np.array(y)\n",
    "    return 10**y - 1\n",
    "\n",
    "def preprocesser(df, target_names, shift_steps, train_ratio, scale_idx_list):\n",
    "    \"\"\"\n",
    "    Takes in the aqi_df and returns processed versions of the train and test splits.\n",
    "    The number of shift steps, the train_ratio, and the variables that will be min-max\n",
    "    scaled can be adjusted.\n",
    "    The min-max scaler for the target is also returned so that it can be used later to invert\n",
    "    the predictions and compare to the true values.\n",
    "    \"\"\"\n",
    "    df = df.copy()\n",
    "    \n",
    "    df[target_names] = log_trans(df[target_names])\n",
    "    df_targets = df[target_names].shift(-shift_steps)\n",
    "    \n",
    "    X_data = df.values[0:-shift_steps]\n",
    "    y_data = df_targets.values[:-shift_steps]\n",
    "\n",
    "    num_data = len(X_data)\n",
    "    num_train = int(train_ratio * num_data)\n",
    "    num_test = num_data - num_train\n",
    "    X_train = X_data[0:num_train]\n",
    "    X_test = X_data[num_train:]\n",
    "    y_train = y_data[0:num_train]\n",
    "    y_test = y_data[num_train:]\n",
    "    \n",
    "    X_scaler = MinMaxScaler()\n",
    "    X_train[:, scale_idx_list] = X_scaler.fit_transform(X_train[:, scale_idx_list])\n",
    "    X_test[:, scale_idx_list] = X_scaler.transform(X_test[:, scale_idx_list])\n",
    "\n",
    "    y_scaler = MinMaxScaler()\n",
    "    y_train = y_scaler.fit_transform(y_train)\n",
    "    y_test = y_scaler.transform(y_test)\n",
    "    \n",
    "    return X_train, y_train, X_test, y_test, y_scaler\n",
    "\n",
    "def inv_y(y_scaled, y_scaler):\n",
    "    y_log = y_scaler.inverse_transform(y_scaled)\n",
    "    return inv_log_trans(y_log)"
   ]
  },
  {
   "cell_type": "code",
   "execution_count": 150,
   "metadata": {},
   "outputs": [],
   "source": [
    "X_train, y_train, X_test, y_test, y_scaler = preprocesser(aqi_df, target_names, 4, 0.80, [0,1,2,3,6])"
   ]
  },
  {
   "cell_type": "code",
   "execution_count": 151,
   "metadata": {},
   "outputs": [],
   "source": [
    "warmup_steps = 50\n",
    "def loss_mse_warmup(y_true, y_pred):\n",
    "    \"\"\"\n",
    "    Calculate the Mean Squared Error between y_true and y_pred,\n",
    "    but ignore the beginning \"warmup\" part of the sequences.\n",
    "    \n",
    "    y_true is the desired output.\n",
    "    y_pred is the model's output.\n",
    "    \"\"\"\n",
    "\n",
    "    # The shape of both input tensors are:\n",
    "    # [batch_size, sequence_length, num_y_signals].\n",
    "\n",
    "    # Ignore the \"warmup\" parts of the sequences\n",
    "    # by taking slices of the tensors.\n",
    "    y_true_slice = y_true[:, warmup_steps:, :]\n",
    "    y_pred_slice = y_pred[:, warmup_steps:, :]\n",
    "\n",
    "    # These sliced tensors both have this shape:\n",
    "    # [batch_size, sequence_length - warmup_steps, num_y_signals]\n",
    "\n",
    "    # Calculate the MSE loss for each value in these tensors.\n",
    "    # This outputs a 3-rank tensor of the same shape.\n",
    "    loss = tf.losses.mean_squared_error(y_true=y_true_slice,\n",
    "                                        y_pred=y_pred_slice)\n",
    "\n",
    "    # Keras may reduce this across the first axis (the batch)\n",
    "    # but the semantics are unclear, so to be sure we use\n",
    "    # the loss across the entire tensor, we reduce it to a\n",
    "    # single scalar with the mean function.\n",
    "    loss_mean = tf.reduce_mean(loss)\n",
    "\n",
    "    return loss_mean"
   ]
  },
  {
   "cell_type": "code",
   "execution_count": 152,
   "metadata": {},
   "outputs": [],
   "source": [
    "def batch_generator(batch_size, sequence_length):\n",
    "    \"\"\"\n",
    "    Generator function for creating random batches of training-data.\n",
    "    \"\"\"\n",
    "\n",
    "    # Infinite loop.\n",
    "    while True:\n",
    "        # Allocate a new array for the batch of input-signals.\n",
    "        x_shape = (batch_size, sequence_length, X_test.shape[1])\n",
    "        x_batch = np.zeros(shape=x_shape, dtype=np.float16)\n",
    "\n",
    "        # Allocate a new array for the batch of output-signals.\n",
    "        y_shape = (batch_size, sequence_length, y_test.shape[1])\n",
    "        y_batch = np.zeros(shape=y_shape, dtype=np.float16)\n",
    "\n",
    "        # Fill the batch with random sequences of data.\n",
    "        for i in range(batch_size):\n",
    "            # Get a random start-index.\n",
    "            # This points somewhere into the training-data.\n",
    "            idx = np.random.randint(X_train.shape[0] - sequence_length)\n",
    "            \n",
    "            # Copy the sequences of data starting at this index.\n",
    "            x_batch[i] = X_train[idx:idx+sequence_length]\n",
    "            y_batch[i] = y_train[idx:idx+sequence_length]\n",
    "        \n",
    "        yield (x_batch, y_batch)"
   ]
  },
  {
   "cell_type": "code",
   "execution_count": 153,
   "metadata": {},
   "outputs": [],
   "source": [
    "validation_data = (np.expand_dims(X_test, axis=0),\n",
    "                  np.expand_dims(y_test, axis=0))"
   ]
  },
  {
   "cell_type": "markdown",
   "metadata": {},
   "source": [
    "#### Building the GRU"
   ]
  },
  {
   "cell_type": "code",
   "execution_count": 154,
   "metadata": {},
   "outputs": [],
   "source": [
    "model = Sequential()\n",
    "model.add(GRU(units=64,\n",
    "              return_sequences=True,\n",
    "              input_shape=(None, X_test.shape[1],),\n",
    "              dropout=0.2))\n",
    "model.add(BatchNormalization())\n",
    "model.add(Dense(y_test.shape[1], activation='sigmoid'))"
   ]
  },
  {
   "cell_type": "code",
   "execution_count": 155,
   "metadata": {},
   "outputs": [],
   "source": [
    "optimizer = RMSprop(0.01)\n",
    "model.compile(loss=loss_mse_warmup, optimizer=optimizer)"
   ]
  },
  {
   "cell_type": "code",
   "execution_count": 156,
   "metadata": {},
   "outputs": [
    {
     "name": "stdout",
     "output_type": "stream",
     "text": [
      "Epoch 1/15\n",
      "50/50 [==============================] - 19s 380ms/step - loss: 0.0331 - val_loss: 0.0190\n",
      "Epoch 2/15\n",
      "50/50 [==============================] - 16s 319ms/step - loss: 0.0176 - val_loss: 0.0186\n",
      "Epoch 3/15\n",
      "50/50 [==============================] - 16s 319ms/step - loss: 0.0157 - val_loss: 0.0212\n",
      "Epoch 4/15\n",
      "50/50 [==============================] - 16s 317ms/step - loss: 0.0133 - val_loss: 0.0168\n",
      "Epoch 5/15\n",
      "50/50 [==============================] - 16s 319ms/step - loss: 0.0123 - val_loss: 0.0165\n",
      "Epoch 6/15\n",
      "50/50 [==============================] - 16s 319ms/step - loss: 0.0114 - val_loss: 0.0149\n",
      "Epoch 7/15\n",
      "50/50 [==============================] - 16s 317ms/step - loss: 0.0108 - val_loss: 0.0135\n",
      "Epoch 8/15\n",
      "50/50 [==============================] - 16s 318ms/step - loss: 0.0105 - val_loss: 0.0128\n",
      "Epoch 9/15\n",
      "50/50 [==============================] - 16s 318ms/step - loss: 0.0102 - val_loss: 0.0134\n",
      "Epoch 10/15\n",
      "50/50 [==============================] - 16s 319ms/step - loss: 0.0101 - val_loss: 0.0121\n",
      "Epoch 11/15\n",
      "50/50 [==============================] - 16s 316ms/step - loss: 0.0099 - val_loss: 0.0122\n",
      "Epoch 12/15\n",
      "50/50 [==============================] - 16s 318ms/step - loss: 0.0097 - val_loss: 0.0129\n",
      "Epoch 13/15\n",
      "50/50 [==============================] - 16s 319ms/step - loss: 0.0096 - val_loss: 0.0130\n",
      "Epoch 14/15\n",
      "50/50 [==============================] - 16s 314ms/step - loss: 0.0095 - val_loss: 0.0127\n",
      "Epoch 15/15\n",
      "50/50 [==============================] - 16s 317ms/step - loss: 0.0095 - val_loss: 0.0130\n"
     ]
    },
    {
     "data": {
      "text/plain": [
       "<keras.callbacks.callbacks.History at 0x7f2145650ac8>"
      ]
     },
     "execution_count": 156,
     "metadata": {},
     "output_type": "execute_result"
    }
   ],
   "source": [
    "batch_size = 512\n",
    "sequence_length = 24*4*4 # 4 day long sequences\n",
    "gru_generator = batch_generator(batch_size=batch_size,\n",
    "                            sequence_length=sequence_length)\n",
    "\n",
    "model.fit_generator(generator=gru_generator, \n",
    "                    epochs=15,\n",
    "                    verbose=1, steps_per_epoch=50,\n",
    "                    validation_data=validation_data,\n",
    "                    use_multiprocessing=True)"
   ]
  },
  {
   "cell_type": "code",
   "execution_count": 157,
   "metadata": {},
   "outputs": [
    {
     "name": "stdout",
     "output_type": "stream",
     "text": [
      "1/1 [==============================] - 1s 787ms/step\n"
     ]
    }
   ],
   "source": [
    "result = model.evaluate(x=np.expand_dims(X_test, axis=0),\n",
    "                        y=np.expand_dims(y_test, axis=0))"
   ]
  },
  {
   "cell_type": "code",
   "execution_count": 158,
   "metadata": {},
   "outputs": [],
   "source": [
    "def plot_comparison(start_idx, length=100, train=True):\n",
    "    \"\"\"\n",
    "    Plot the predicted and true output-signals.\n",
    "    \n",
    "    :param start_idx: Start-index for the time-series.\n",
    "    :param length: Sequence-length to process and plot.\n",
    "    :param train: Boolean whether to use training- or test-set.\n",
    "    \"\"\"\n",
    "    \n",
    "    if train:\n",
    "        # Use training-data.\n",
    "        x = X_train\n",
    "        y_true = y_train\n",
    "    else:\n",
    "        # Use test-data.\n",
    "        x = X_test\n",
    "        y_true = y_test\n",
    "    \n",
    "    # End-index for the sequences.\n",
    "    end_idx = start_idx + length\n",
    "    \n",
    "    # Select the sequences from the given start-index and\n",
    "    # of the given length.\n",
    "    x = x[start_idx:end_idx]\n",
    "    y_true = inv_y(y_true[start_idx:end_idx], y_scaler)\n",
    "    \n",
    "    # Input-signals for the model.\n",
    "    x = np.expand_dims(x, axis=0)\n",
    "\n",
    "    # Use the model to predict the output-signals.\n",
    "    y_pred = model.predict(x)\n",
    "    \n",
    "    # The output of the model is between 0 and 1.\n",
    "    # Do an inverse map to get it back to the scale\n",
    "    # of the original data-set.\n",
    "    y_pred_rescaled = inv_y(y_pred[0], y_scaler)\n",
    "    \n",
    "    # For each output-signal.\n",
    "    for signal in range(len(target_names)):\n",
    "        # Get the output-signal predicted by the model.\n",
    "        signal_pred = y_pred_rescaled[:, signal]\n",
    "        \n",
    "        # Get the true output-signal from the data-set.\n",
    "        signal_true = y_true[:, signal]\n",
    "\n",
    "        # Make the plotting-canvas bigger.\n",
    "        plt.figure(figsize=(15,5))\n",
    "        \n",
    "        # Plot and compare the two signals.\n",
    "        plt.plot(signal_true, label='true')\n",
    "        plt.plot(signal_pred, label='pred')\n",
    "        \n",
    "        # Plot grey box for warmup-period.\n",
    "        p = plt.axvspan(0, warmup_steps, facecolor='black', alpha=0.15)\n",
    "        \n",
    "        # Plot labels etc.\n",
    "        plt.ylabel(target_names[signal])\n",
    "        plt.legend()\n",
    "        plt.show()"
   ]
  },
  {
   "cell_type": "code",
   "execution_count": 160,
   "metadata": {},
   "outputs": [
    {
     "data": {
      "image/png": "[encoded data removed]",
      "text/plain": [
       "<Figure size 1080x360 with 1 Axes>"
      ]
     },
     "metadata": {
      "needs_background": "light"
     },
     "output_type": "display_data"
    }
   ],
   "source": [
    "plot_comparison(start_idx=2000, length=1000, train=False)"
   ]
  },
  {
   "cell_type": "code",
   "execution_count": 162,
   "metadata": {},
   "outputs": [],
   "source": [
    "model.save('./chicago_gru_12h_16d_512batch.hf5')"
   ]
  },
  {
   "cell_type": "code",
   "execution_count": null,
   "metadata": {},
   "outputs": [],
   "source": []
  }
 ],
 "metadata": {
  "kernelspec": {
   "display_name": "Python 3",
   "language": "python",
   "name": "python3"
  },
  "language_info": {
   "codemirror_mode": {
    "name": "ipython",
    "version": 3
   },
   "file_extension": ".py",
   "mimetype": "text/x-python",
   "name": "python",
   "nbconvert_exporter": "python",
   "pygments_lexer": "ipython3",
   "version": "3.5.3"
  }
 },
 "nbformat": 4,
 "nbformat_minor": 4
}
