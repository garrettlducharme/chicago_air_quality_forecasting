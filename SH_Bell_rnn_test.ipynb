{
 "cells": [
  {
   "cell_type": "markdown",
   "metadata": {},
   "source": [
    "In this notebook we'll be building our first LSTM model with the meteorological and site readings from the S.H Bell monitoring site. We'll first need to join all of the data and do some basic data cleaning and preparation."
   ]
  },
  {
   "cell_type": "code",
   "execution_count": 100,
   "metadata": {},
   "outputs": [],
   "source": [
    "import numpy as np\n",
    "import pandas as pd\n",
    "from datetime import datetime\n",
    "import matplotlib.pyplot as plt\n",
    "%matplotlib inline\n",
    "import seaborn as sns"
   ]
  },
  {
   "cell_type": "markdown",
   "metadata": {},
   "source": [
    "### Data Preparation"
   ]
  },
  {
   "cell_type": "code",
   "execution_count": 101,
   "metadata": {},
   "outputs": [],
   "source": [
    "samples = pd.read_excel('data/sample_readings/shb_summary_of_all_continuous_data_november_2019_for_website_public_0.xlsx')\n",
    "sample_copy = samples.copy()"
   ]
  },
  {
   "cell_type": "code",
   "execution_count": 102,
   "metadata": {},
   "outputs": [
    {
     "name": "stdout",
     "output_type": "stream",
     "text": [
      "<class 'pandas.core.frame.DataFrame'>\n",
      "RangeIndex: 24120 entries, 0 to 24119\n",
      "Data columns (total 29 columns):\n",
      "Transaction Type                     24120 non-null object\n",
      "Action Code                          24120 non-null object\n",
      "State Code                           24120 non-null int64\n",
      "County Code                          24120 non-null int64\n",
      "Site ID                              24120 non-null int64\n",
      "Parameter                            24120 non-null int64\n",
      "POC                                  24120 non-null int64\n",
      "Sample Duration                      24120 non-null int64\n",
      "Unit                                 24120 non-null int64\n",
      "Method                               24120 non-null int64\n",
      "Date                                 24120 non-null int64\n",
      "Start Time                           24120 non-null object\n",
      "Sample Value                         23902 non-null float64\n",
      "Null Data Code                       299 non-null object\n",
      "Sampling Frequency                   0 non-null float64\n",
      "Monitor Protocol (MP) ID             0 non-null float64\n",
      "Qualifier 1                          50 non-null float64\n",
      "Qualifier 2                          0 non-null float64\n",
      "Qualifier 3                          0 non-null float64\n",
      "Qualifier 4                          0 non-null float64\n",
      "Qualifier 5                          0 non-null float64\n",
      "Qualifier 6                          0 non-null float64\n",
      "Qualifier 7                          0 non-null float64\n",
      "Qualifier 8                          0 non-null float64\n",
      "Qualifier 9                          0 non-null float64\n",
      "Qualifier 10                         0 non-null float64\n",
      "Alternate Method Detectable Limit    0 non-null float64\n",
      "Uncertainty                          0 non-null float64\n",
      "Unnamed: 28                          0 non-null float64\n",
      "dtypes: float64(16), int64(9), object(4)\n",
      "memory usage: 5.3+ MB\n"
     ]
    }
   ],
   "source": [
    "samples.info()"
   ]
  },
  {
   "cell_type": "markdown",
   "metadata": {},
   "source": [
    "We'll drop all of the columns that are completely empty and then look at the ones with a few non-null values to see if they're relevant."
   ]
  },
  {
   "cell_type": "code",
   "execution_count": 103,
   "metadata": {},
   "outputs": [],
   "source": [
    "samples.dropna(axis=1, how='all', inplace=True)"
   ]
  },
  {
   "cell_type": "code",
   "execution_count": 104,
   "metadata": {},
   "outputs": [
    {
     "name": "stdout",
     "output_type": "stream",
     "text": [
      "<class 'pandas.core.frame.DataFrame'>\n",
      "RangeIndex: 24120 entries, 0 to 24119\n",
      "Data columns (total 15 columns):\n",
      "Transaction Type    24120 non-null object\n",
      "Action Code         24120 non-null object\n",
      "State Code          24120 non-null int64\n",
      "County Code         24120 non-null int64\n",
      "Site ID             24120 non-null int64\n",
      "Parameter           24120 non-null int64\n",
      "POC                 24120 non-null int64\n",
      "Sample Duration     24120 non-null int64\n",
      "Unit                24120 non-null int64\n",
      "Method              24120 non-null int64\n",
      "Date                24120 non-null int64\n",
      "Start Time          24120 non-null object\n",
      "Sample Value        23902 non-null float64\n",
      "Null Data Code      299 non-null object\n",
      "Qualifier 1         50 non-null float64\n",
      "dtypes: float64(2), int64(9), object(4)\n",
      "memory usage: 2.8+ MB\n"
     ]
    }
   ],
   "source": [
    "samples.info()"
   ]
  },
  {
   "cell_type": "code",
   "execution_count": 105,
   "metadata": {},
   "outputs": [
    {
     "data": {
      "text/plain": [
       "9.0    50\n",
       "Name: Qualifier 1, dtype: int64"
      ]
     },
     "execution_count": 105,
     "metadata": {},
     "output_type": "execute_result"
    }
   ],
   "source": [
    "samples['Qualifier 1'].value_counts()"
   ]
  },
  {
   "cell_type": "code",
   "execution_count": 106,
   "metadata": {},
   "outputs": [
    {
     "data": {
      "text/plain": [
       "BA    188\n",
       "BC     83\n",
       "AN     18\n",
       "AV      6\n",
       "AZ      2\n",
       "AM      2\n",
       "Name: Null Data Code, dtype: int64"
      ]
     },
     "execution_count": 106,
     "metadata": {},
     "output_type": "execute_result"
    }
   ],
   "source": [
    "samples['Null Data Code'].value_counts()"
   ]
  },
  {
   "cell_type": "markdown",
   "metadata": {},
   "source": [
    "Descriptions of the qualifiers and null data codes can be found here: https://aqs.epa.gov/aqsweb/documents/codetables/qualifiers.html. According to this table, the values in the 'Qualifier 1' column were detected as negative. Since it doesn't make sense to have a negative reading of a PM concentration, they were instead reported as being 0. The readings in the 'Null Data Code' column are as follows:\n",
    "\n",
    "- AM: Miscellaneous Void\n",
    "- AN: Machine Malfunction\n",
    "- AV: Power Failure\n",
    "- AZ: Q C Audit\n",
    "- BA: Maintenance/Routine Repairs\n",
    "- BC: Multi-point Calibration"
   ]
  },
  {
   "cell_type": "markdown",
   "metadata": {},
   "source": [
    "There doesn't seem to be any way to really deal with the null values, To make sure that we still have consistently hourly data, we'll do some interpolation. First, let's make sure that all of the values with a null data code are actually NaNs. If they aren't, we'll set them to NaN and then resample. The same will be done for for the 'Qualifier 1' column."
   ]
  },
  {
   "cell_type": "code",
   "execution_count": 107,
   "metadata": {},
   "outputs": [],
   "source": [
    "samples.loc[samples['Null Data Code'].notnull(), 'Sample Value'] = np.nan\n",
    "samples.loc[samples['Qualifier 1'].notnull(), 'Sample Value'] = np.nan"
   ]
  },
  {
   "cell_type": "code",
   "execution_count": 108,
   "metadata": {},
   "outputs": [
    {
     "name": "stdout",
     "output_type": "stream",
     "text": [
      "<class 'pandas.core.frame.DataFrame'>\n",
      "RangeIndex: 24120 entries, 0 to 24119\n",
      "Data columns (total 3 columns):\n",
      "Sample Value      23771 non-null float64\n",
      "Null Data Code    299 non-null object\n",
      "Qualifier 1       50 non-null float64\n",
      "dtypes: float64(2), object(1)\n",
      "memory usage: 565.4+ KB\n"
     ]
    }
   ],
   "source": [
    "samples[['Sample Value', 'Null Data Code', 'Qualifier 1']].info()"
   ]
  },
  {
   "cell_type": "code",
   "execution_count": 109,
   "metadata": {},
   "outputs": [
    {
     "data": {
      "text/plain": [
       "True"
      ]
     },
     "execution_count": 109,
     "metadata": {},
     "output_type": "execute_result"
    }
   ],
   "source": [
    "# Checking to see if we have the correct number of null values\n",
    "23771 + 50 + 299 == 24120"
   ]
  },
  {
   "cell_type": "markdown",
   "metadata": {},
   "source": [
    "We'll now set the index to the time of measurement and drop the irrelevant columns. It turns out that the first 2928 values in the 'Start Time' column have dates and time, while the rest only have times. In order to address this, we'll extract the times, then convert them to strings and combine them with the 'Date' column. This new column, which we will just call 'datetime', will be set as the index for the samples DataFrame. We'll then drop the columns that we don't need before interpolating the missing sample values."
   ]
  },
  {
   "cell_type": "code",
   "execution_count": 110,
   "metadata": {},
   "outputs": [
    {
     "data": {
      "text/plain": [
       "<class 'datetime.time'>        21192\n",
       "<class 'datetime.datetime'>     2928\n",
       "Name: Start Time, dtype: int64"
      ]
     },
     "execution_count": 110,
     "metadata": {},
     "output_type": "execute_result"
    }
   ],
   "source": [
    "samples['Start Time'].apply(lambda x: type(x)).value_counts()"
   ]
  },
  {
   "cell_type": "code",
   "execution_count": 111,
   "metadata": {},
   "outputs": [],
   "source": [
    "samples.loc[:2928, 'Start Time'] = samples['Start Time'][:2928].dt.time"
   ]
  },
  {
   "cell_type": "code",
   "execution_count": 112,
   "metadata": {},
   "outputs": [],
   "source": [
    "samples.loc[:, 'Start Time'] = samples['Start Time'].astype(str)\n",
    "samples.loc[:, 'Date'] = samples['Date'].astype(str)"
   ]
  },
  {
   "cell_type": "code",
   "execution_count": 113,
   "metadata": {},
   "outputs": [],
   "source": [
    "samples['datetime'] = pd.to_datetime(samples['Date'] + ' ' + samples['Start Time'],\n",
    "                                     format='%Y%m%d %H', errors='coerce')"
   ]
  },
  {
   "cell_type": "code",
   "execution_count": 114,
   "metadata": {},
   "outputs": [],
   "source": [
    "samples.drop(columns=['Transaction Type', 'Action Code', 'State Code', 'County Code',\n",
    "                      'Site ID', 'Parameter', 'POC', 'Sample Duration', 'Unit',\n",
    "                      'Method', 'Date', 'Start Time', 'Null Data Code', 'Qualifier 1'],\n",
    "             inplace=True)\n",
    "samples.set_index('datetime', inplace=True)"
   ]
  },
  {
   "cell_type": "markdown",
   "metadata": {},
   "source": [
    "Now that we've taken care of the annoying datetime issue, we can move on to interpolating the missing values. We'll take a simple approach and just do this with cubic splines. It also turns out that we have a missing day around the beginning of June 2017. So, we'll have to reindex as well before inerpolating."
   ]
  },
  {
   "cell_type": "code",
   "execution_count": 115,
   "metadata": {},
   "outputs": [],
   "source": [
    "samples = samples.sort_index()"
   ]
  },
  {
   "cell_type": "code",
   "execution_count": 116,
   "metadata": {},
   "outputs": [
    {
     "data": {
      "text/plain": [
       "2017-06-06 23:00:00    2\n",
       "2018-08-01 12:00:00    1\n",
       "2019-02-09 09:00:00    1\n",
       "2017-09-25 11:00:00    1\n",
       "2018-04-21 23:00:00    1\n",
       "Name: datetime, dtype: int64"
      ]
     },
     "execution_count": 116,
     "metadata": {},
     "output_type": "execute_result"
    }
   ],
   "source": [
    "samples.index.value_counts().head()"
   ]
  },
  {
   "cell_type": "markdown",
   "metadata": {},
   "source": [
    "We also apparently have a duplicate date that we will have to deal with. Let's investigate this in more detail"
   ]
  },
  {
   "cell_type": "code",
   "execution_count": 117,
   "metadata": {},
   "outputs": [
    {
     "data": {
      "text/html": [
       "<div>\n",
       "<style scoped>\n",
       "    .dataframe tbody tr th:only-of-type {\n",
       "        vertical-align: middle;\n",
       "    }\n",
       "\n",
       "    .dataframe tbody tr th {\n",
       "        vertical-align: top;\n",
       "    }\n",
       "\n",
       "    .dataframe thead th {\n",
       "        text-align: right;\n",
       "    }\n",
       "</style>\n",
       "<table border=\"1\" class=\"dataframe\">\n",
       "  <thead>\n",
       "    <tr style=\"text-align: right;\">\n",
       "      <th></th>\n",
       "      <th>Sample Value</th>\n",
       "    </tr>\n",
       "    <tr>\n",
       "      <th>datetime</th>\n",
       "      <th></th>\n",
       "    </tr>\n",
       "  </thead>\n",
       "  <tbody>\n",
       "    <tr>\n",
       "      <th>2017-06-06 23:00:00</th>\n",
       "      <td>11.0</td>\n",
       "    </tr>\n",
       "    <tr>\n",
       "      <th>2017-06-06 23:00:00</th>\n",
       "      <td>10.0</td>\n",
       "    </tr>\n",
       "    <tr>\n",
       "      <th>2017-06-07 00:00:00</th>\n",
       "      <td>17.0</td>\n",
       "    </tr>\n",
       "    <tr>\n",
       "      <th>2017-06-07 01:00:00</th>\n",
       "      <td>12.0</td>\n",
       "    </tr>\n",
       "    <tr>\n",
       "      <th>2017-06-07 02:00:00</th>\n",
       "      <td>7.0</td>\n",
       "    </tr>\n",
       "  </tbody>\n",
       "</table>\n",
       "</div>"
      ],
      "text/plain": [
       "                     Sample Value\n",
       "datetime                         \n",
       "2017-06-06 23:00:00          11.0\n",
       "2017-06-06 23:00:00          10.0\n",
       "2017-06-07 00:00:00          17.0\n",
       "2017-06-07 01:00:00          12.0\n",
       "2017-06-07 02:00:00           7.0"
      ]
     },
     "execution_count": 117,
     "metadata": {},
     "output_type": "execute_result"
    }
   ],
   "source": [
    "samples['2017-06-06 23:00:00':].head()"
   ]
  },
  {
   "cell_type": "markdown",
   "metadata": {},
   "source": [
    "We'll just remove the second one since the values are so close."
   ]
  },
  {
   "cell_type": "code",
   "execution_count": 118,
   "metadata": {},
   "outputs": [],
   "source": [
    "samples = samples.loc[~samples.index.duplicated(keep='first')]"
   ]
  },
  {
   "cell_type": "markdown",
   "metadata": {},
   "source": [
    "Finally, we remove the single null value"
   ]
  },
  {
   "cell_type": "code",
   "execution_count": 119,
   "metadata": {},
   "outputs": [],
   "source": [
    "samples = samples.loc[~samples.index.isna()]"
   ]
  },
  {
   "cell_type": "markdown",
   "metadata": {},
   "source": [
    "Now, after all of this cleaning we can finally interpolate our missing values with the linear spline. We'll be rounding to the nearest whole number here because the none of the given readings have decimal points. We'll first plot the values before assigning them to make sure that nothing looks weird."
   ]
  },
  {
   "cell_type": "code",
   "execution_count": 120,
   "metadata": {},
   "outputs": [
    {
     "data": {
      "text/plain": [
       "<matplotlib.axes._subplots.AxesSubplot at 0x20a92b0d860>"
      ]
     },
     "execution_count": 120,
     "metadata": {},
     "output_type": "execute_result"
    },
    {
     "data": {
      "image/png": "[encoded data removed]",
      "text/plain": [
       "<Figure size 1080x576 with 1 Axes>"
      ]
     },
     "metadata": {
      "needs_background": "light"
     },
     "output_type": "display_data"
    }
   ],
   "source": [
    "samples.interpolate(method='time').round(0).plot(figsize=(15,8))"
   ]
  },
  {
   "cell_type": "markdown",
   "metadata": {},
   "source": [
    "Looks good!"
   ]
  },
  {
   "cell_type": "code",
   "execution_count": 121,
   "metadata": {},
   "outputs": [],
   "source": [
    "samples = samples.interpolate(method='time').round(0)"
   ]
  },
  {
   "cell_type": "markdown",
   "metadata": {},
   "source": [
    "### Modelling"
   ]
  },
  {
   "cell_type": "markdown",
   "metadata": {},
   "source": [
    "The LSTM model working by learning a function that will map a sequence of previous observations to future observation. In order to facilitate this process, we'll define a helper function which will take a sequence of observations and split it into samples that the LSTM model will learn from"
   ]
  },
  {
   "cell_type": "code",
   "execution_count": 122,
   "metadata": {},
   "outputs": [],
   "source": [
    "# split a univariate sequence into samples\n",
    "def split_sequence(sequence, n_steps):\n",
    "    X, y = list(), list()\n",
    "    for i in range(len(sequence)):\n",
    "        # find the end of this pattern\n",
    "        end_ix = i + n_steps\n",
    "        # check if we are beyond the sequence\n",
    "        if end_ix > len(sequence)-1:\n",
    "            break\n",
    "        # gather input and output parts of the pattern\n",
    "        seq_x, seq_y = sequence[i:end_ix], sequence[end_ix]\n",
    "        X.append(seq_x)\n",
    "        y.append(seq_y)\n",
    "    return np.array(X), np.array(y)"
   ]
  },
  {
   "cell_type": "code",
   "execution_count": 123,
   "metadata": {},
   "outputs": [],
   "source": [
    "# Splitting the time series into sequences\n",
    "# Using 96 hours of prior observations as the training set for a single step ahead\n",
    "n_steps = 96\n",
    "X, y = split_sequence(samples['2019':]['Sample Value'], n_steps)"
   ]
  },
  {
   "cell_type": "markdown",
   "metadata": {},
   "source": [
    "#### Feature Scaling\n",
    "\n",
    "We'll use a min-max scaler to scale the data, as the neural network will not be able to handle large differences in the concentration readings."
   ]
  },
  {
   "cell_type": "code",
   "execution_count": 125,
   "metadata": {},
   "outputs": [],
   "source": [
    "from sklearn.preprocessing import MinMaxScaler\n",
    "\n",
    "scaler = MinMaxScaler()\n",
    "X = np.array([scaler.fit_transform(X[i,:].reshape(-1,1)) for i in range(X.shape[0])])"
   ]
  },
  {
   "cell_type": "markdown",
   "metadata": {},
   "source": [
    "### Building the Model with Keras"
   ]
  },
  {
   "cell_type": "code",
   "execution_count": 127,
   "metadata": {},
   "outputs": [
    {
     "name": "stdout",
     "output_type": "stream",
     "text": [
      "Epoch 1/10\n",
      "7920/7920 [==============================] - 14s 2ms/step - loss: 2235.3588\n",
      "Epoch 2/10\n",
      "7920/7920 [==============================] - 14s 2ms/step - loss: 1568.2368\n",
      "Epoch 3/10\n",
      "7920/7920 [==============================] - 16s 2ms/step - loss: 1553.5442\n",
      "Epoch 4/10\n",
      "7920/7920 [==============================] - 16s 2ms/step - loss: 1538.8730\n",
      "Epoch 5/10\n",
      "7920/7920 [==============================] - 15s 2ms/step - loss: 1524.1988\n",
      "Epoch 6/10\n",
      "7920/7920 [==============================] - 15s 2ms/step - loss: 1509.5900\n",
      "Epoch 7/10\n",
      "7920/7920 [==============================] - 15s 2ms/step - loss: 1495.0579\n",
      "Epoch 8/10\n",
      "7920/7920 [==============================] - 14s 2ms/step - loss: 1480.5830\n",
      "Epoch 9/10\n",
      "7920/7920 [==============================] - 15s 2ms/step - loss: 1466.1528\n",
      "Epoch 10/10\n",
      "7920/7920 [==============================] - 15s 2ms/step - loss: 1451.7507\n"
     ]
    },
    {
     "data": {
      "text/plain": [
       "<keras.callbacks.callbacks.History at 0x20a925f0438>"
      ]
     },
     "execution_count": 127,
     "metadata": {},
     "output_type": "execute_result"
    }
   ],
   "source": [
    "from keras.models import Sequential\n",
    "from keras.layers import LSTM\n",
    "from keras.layers import Dense\n",
    "\n",
    "# Reshape X so that it represents a single feature\n",
    "n_features = 1\n",
    "X = X.reshape((X.shape[0], X.shape[1], n_features))\n",
    "# Define the model\n",
    "model = Sequential()\n",
    "model.add(LSTM(25, activation='relu', return_sequences=True, input_shape=(n_steps, n_features)))\n",
    "model.add(LSTM(10, activation='relu'))\n",
    "model.add(Dense(1))\n",
    "model.compile(optimizer='adam', loss='mse')\n",
    "# Fit the model\n",
    "model.fit(X, y, epochs=10, verbose=1)"
   ]
  },
  {
   "cell_type": "code",
   "execution_count": 128,
   "metadata": {},
   "outputs": [],
   "source": [
    "X_input = X[0]\n",
    "X_input = X_input.reshape((1, n_steps, n_features))\n",
    "y_hat = model.predict(X_input, verbose=0)"
   ]
  },
  {
   "cell_type": "code",
   "execution_count": 137,
   "metadata": {},
   "outputs": [
    {
     "name": "stdout",
     "output_type": "stream",
     "text": [
      "26.0, 4.790697\n"
     ]
    }
   ],
   "source": [
    "print(y[0], y_hat[0,0], sep=', ')"
   ]
  },
  {
   "cell_type": "markdown",
   "metadata": {},
   "source": [
    "Clearly, the univariate model is not complex enough to correctly predict the PM10 readings from the S.H Bell site. In the next iteration of work, we need to think about including all of the available weather data from this site."
   ]
  },
  {
   "cell_type": "code",
   "execution_count": null,
   "metadata": {},
   "outputs": [],
   "source": []
  }
 ],
 "metadata": {
  "kernelspec": {
   "display_name": "Python 3",
   "language": "python",
   "name": "python3"
  },
  "language_info": {
   "codemirror_mode": {
    "name": "ipython",
    "version": 3
   },
   "file_extension": ".py",
   "mimetype": "text/x-python",
   "name": "python",
   "nbconvert_exporter": "python",
   "pygments_lexer": "ipython3",
   "version": "3.7.3"
  }
 },
 "nbformat": 4,
 "nbformat_minor": 4
}
