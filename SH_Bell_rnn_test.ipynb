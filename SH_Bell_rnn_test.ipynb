{
 "cells": [
  {
   "cell_type": "markdown",
   "metadata": {},
   "source": [
    "In this notebook we'll be building our first LSTM model with the meteorological and site readings from the S.H Bell monitoring site. We'll first need to join all of the data and do some basic data cleaning and preparation."
   ]
  },
  {
   "cell_type": "code",
   "execution_count": 2,
   "metadata": {},
   "outputs": [],
   "source": [
    "import numpy as np\n",
    "import pandas as pd\n",
    "from datetime import datetime\n",
    "import matplotlib.pyplot as plt\n",
    "%matplotlib inline\n",
    "import seaborn as sns"
   ]
  },
  {
   "cell_type": "markdown",
   "metadata": {},
   "source": [
    "### Data Preparation"
   ]
  },
  {
   "cell_type": "code",
   "execution_count": 3,
   "metadata": {},
   "outputs": [],
   "source": [
    "samples = pd.read_excel('data/sample_readings/shb_summary_of_all_continuous_data_november_2019_for_website_public_0.xlsx')\n",
    "sample_copy = samples.copy()"
   ]
  },
  {
   "cell_type": "code",
   "execution_count": 4,
   "metadata": {},
   "outputs": [
    {
     "name": "stdout",
     "output_type": "stream",
     "text": [
      "<class 'pandas.core.frame.DataFrame'>\n",
      "RangeIndex: 24120 entries, 0 to 24119\n",
      "Data columns (total 29 columns):\n",
      "Transaction Type                     24120 non-null object\n",
      "Action Code                          24120 non-null object\n",
      "State Code                           24120 non-null int64\n",
      "County Code                          24120 non-null int64\n",
      "Site ID                              24120 non-null int64\n",
      "Parameter                            24120 non-null int64\n",
      "POC                                  24120 non-null int64\n",
      "Sample Duration                      24120 non-null int64\n",
      "Unit                                 24120 non-null int64\n",
      "Method                               24120 non-null int64\n",
      "Date                                 24120 non-null int64\n",
      "Start Time                           24120 non-null object\n",
      "Sample Value                         23902 non-null float64\n",
      "Null Data Code                       299 non-null object\n",
      "Sampling Frequency                   0 non-null float64\n",
      "Monitor Protocol (MP) ID             0 non-null float64\n",
      "Qualifier 1                          50 non-null float64\n",
      "Qualifier 2                          0 non-null float64\n",
      "Qualifier 3                          0 non-null float64\n",
      "Qualifier 4                          0 non-null float64\n",
      "Qualifier 5                          0 non-null float64\n",
      "Qualifier 6                          0 non-null float64\n",
      "Qualifier 7                          0 non-null float64\n",
      "Qualifier 8                          0 non-null float64\n",
      "Qualifier 9                          0 non-null float64\n",
      "Qualifier 10                         0 non-null float64\n",
      "Alternate Method Detectable Limit    0 non-null float64\n",
      "Uncertainty                          0 non-null float64\n",
      "Unnamed: 28                          0 non-null float64\n",
      "dtypes: float64(16), int64(9), object(4)\n",
      "memory usage: 5.3+ MB\n"
     ]
    }
   ],
   "source": [
    "samples.info()"
   ]
  },
  {
   "cell_type": "markdown",
   "metadata": {},
   "source": [
    "We'll drop all of the columns that are completely empty and then look at the ones with a few non-null values to see if they're relevant."
   ]
  },
  {
   "cell_type": "code",
   "execution_count": 5,
   "metadata": {},
   "outputs": [],
   "source": [
    "samples.dropna(axis=1, how='all', inplace=True)"
   ]
  },
  {
   "cell_type": "code",
   "execution_count": 6,
   "metadata": {},
   "outputs": [
    {
     "name": "stdout",
     "output_type": "stream",
     "text": [
      "<class 'pandas.core.frame.DataFrame'>\n",
      "RangeIndex: 24120 entries, 0 to 24119\n",
      "Data columns (total 15 columns):\n",
      "Transaction Type    24120 non-null object\n",
      "Action Code         24120 non-null object\n",
      "State Code          24120 non-null int64\n",
      "County Code         24120 non-null int64\n",
      "Site ID             24120 non-null int64\n",
      "Parameter           24120 non-null int64\n",
      "POC                 24120 non-null int64\n",
      "Sample Duration     24120 non-null int64\n",
      "Unit                24120 non-null int64\n",
      "Method              24120 non-null int64\n",
      "Date                24120 non-null int64\n",
      "Start Time          24120 non-null object\n",
      "Sample Value        23902 non-null float64\n",
      "Null Data Code      299 non-null object\n",
      "Qualifier 1         50 non-null float64\n",
      "dtypes: float64(2), int64(9), object(4)\n",
      "memory usage: 2.8+ MB\n"
     ]
    }
   ],
   "source": [
    "samples.info()"
   ]
  },
  {
   "cell_type": "code",
   "execution_count": 7,
   "metadata": {},
   "outputs": [
    {
     "data": {
      "text/plain": [
       "9.0    50\n",
       "Name: Qualifier 1, dtype: int64"
      ]
     },
     "execution_count": 7,
     "metadata": {},
     "output_type": "execute_result"
    }
   ],
   "source": [
    "samples['Qualifier 1'].value_counts()"
   ]
  },
  {
   "cell_type": "code",
   "execution_count": 8,
   "metadata": {},
   "outputs": [
    {
     "data": {
      "text/plain": [
       "BA    188\n",
       "BC     83\n",
       "AN     18\n",
       "AV      6\n",
       "AZ      2\n",
       "AM      2\n",
       "Name: Null Data Code, dtype: int64"
      ]
     },
     "execution_count": 8,
     "metadata": {},
     "output_type": "execute_result"
    }
   ],
   "source": [
    "samples['Null Data Code'].value_counts()"
   ]
  },
  {
   "cell_type": "markdown",
   "metadata": {},
   "source": [
    "Descriptions of the qualifiers and null data codes can be found here: https://aqs.epa.gov/aqsweb/documents/codetables/qualifiers.html. According to this table, the values in the 'Qualifier 1' column were detected as negative. Since it doesn't make sense to have a negative reading of a PM concentration, they were instead reported as being 0. The readings in the 'Null Data Code' column are as follows:\n",
    "\n",
    "- AM: Miscellaneous Void\n",
    "- AN: Machine Malfunction\n",
    "- AV: Power Failure\n",
    "- AZ: Q C Audit\n",
    "- BA: Maintenance/Routine Repairs\n",
    "- BC: Multi-point Calibration"
   ]
  },
  {
   "cell_type": "markdown",
   "metadata": {},
   "source": [
    "There doesn't seem to be any way to really deal with the null values, To make sure that we still have consistently hourly data, we'll do some interpolation. First, let's make sure that all of the values with a null data code are actually NaNs. If they aren't, we'll set them to NaN and then resample. The same will be done for for the 'Qualifier 1' column."
   ]
  },
  {
   "cell_type": "code",
   "execution_count": 9,
   "metadata": {},
   "outputs": [],
   "source": [
    "samples.loc[samples['Null Data Code'].notnull(), 'Sample Value'] = np.nan\n",
    "samples.loc[samples['Qualifier 1'].notnull(), 'Sample Value'] = np.nan"
   ]
  },
  {
   "cell_type": "code",
   "execution_count": 10,
   "metadata": {},
   "outputs": [
    {
     "name": "stdout",
     "output_type": "stream",
     "text": [
      "<class 'pandas.core.frame.DataFrame'>\n",
      "RangeIndex: 24120 entries, 0 to 24119\n",
      "Data columns (total 3 columns):\n",
      "Sample Value      23771 non-null float64\n",
      "Null Data Code    299 non-null object\n",
      "Qualifier 1       50 non-null float64\n",
      "dtypes: float64(2), object(1)\n",
      "memory usage: 565.4+ KB\n"
     ]
    }
   ],
   "source": [
    "samples[['Sample Value', 'Null Data Code', 'Qualifier 1']].info()"
   ]
  },
  {
   "cell_type": "code",
   "execution_count": 11,
   "metadata": {},
   "outputs": [
    {
     "data": {
      "text/plain": [
       "True"
      ]
     },
     "execution_count": 11,
     "metadata": {},
     "output_type": "execute_result"
    }
   ],
   "source": [
    "# Checking to see if we have the correct number of null values\n",
    "23771 + 50 + 299 == 24120"
   ]
  },
  {
   "cell_type": "markdown",
   "metadata": {},
   "source": [
    "We'll now set the index to the time of measurement and drop the irrelevant columns. It turns out that the first 2928 values in the 'Start Time' column have dates and time, while the rest only have times. In order to address this, we'll extract the times, then convert them to strings and combine them with the 'Date' column. This new column, which we will just call 'datetime', will be set as the index for the samples DataFrame. We'll then drop the columns that we don't need before interpolating the missing sample values."
   ]
  },
  {
   "cell_type": "code",
   "execution_count": 12,
   "metadata": {},
   "outputs": [
    {
     "data": {
      "text/plain": [
       "<class 'datetime.time'>        21192\n",
       "<class 'datetime.datetime'>     2928\n",
       "Name: Start Time, dtype: int64"
      ]
     },
     "execution_count": 12,
     "metadata": {},
     "output_type": "execute_result"
    }
   ],
   "source": [
    "samples['Start Time'].apply(lambda x: type(x)).value_counts()"
   ]
  },
  {
   "cell_type": "code",
   "execution_count": 13,
   "metadata": {},
   "outputs": [],
   "source": [
    "samples.loc[:2928, 'Start Time'] = samples['Start Time'][:2928].dt.time"
   ]
  },
  {
   "cell_type": "code",
   "execution_count": 14,
   "metadata": {},
   "outputs": [],
   "source": [
    "samples.loc[:, 'Start Time'] = samples['Start Time'].astype(str)\n",
    "samples.loc[:, 'Date'] = samples['Date'].astype(str)"
   ]
  },
  {
   "cell_type": "code",
   "execution_count": 15,
   "metadata": {},
   "outputs": [],
   "source": [
    "samples['datetime'] = pd.to_datetime(samples['Date'] + ' ' + samples['Start Time'],\n",
    "                                     format='%Y%m%d %H', errors='coerce')"
   ]
  },
  {
   "cell_type": "code",
   "execution_count": 16,
   "metadata": {},
   "outputs": [],
   "source": [
    "samples.drop(columns=['Transaction Type', 'Action Code', 'State Code', 'County Code',\n",
    "                      'Site ID', 'Parameter', 'POC', 'Sample Duration', 'Unit',\n",
    "                      'Method', 'Date', 'Start Time', 'Null Data Code', 'Qualifier 1'],\n",
    "             inplace=True)\n",
    "samples.set_index('datetime', inplace=True)"
   ]
  },
  {
   "cell_type": "markdown",
   "metadata": {},
   "source": [
    "Now that we've taken care of the annoying datetime issue, we can move on to interpolating the missing values. We'll take a simple approach and just do this with cubic splines. It also turns out that we have a missing day around the beginning of June 2017. So, we'll have to reindex as well before inerpolating."
   ]
  },
  {
   "cell_type": "code",
   "execution_count": 17,
   "metadata": {},
   "outputs": [],
   "source": [
    "samples = samples.sort_index()"
   ]
  },
  {
   "cell_type": "code",
   "execution_count": 18,
   "metadata": {},
   "outputs": [
    {
     "data": {
      "text/plain": [
       "2017-06-06 23:00:00    2\n",
       "2018-08-01 12:00:00    1\n",
       "2019-02-09 09:00:00    1\n",
       "2017-09-25 11:00:00    1\n",
       "2018-04-21 23:00:00    1\n",
       "Name: datetime, dtype: int64"
      ]
     },
     "execution_count": 18,
     "metadata": {},
     "output_type": "execute_result"
    }
   ],
   "source": [
    "samples.index.value_counts().head()"
   ]
  },
  {
   "cell_type": "markdown",
   "metadata": {},
   "source": [
    "We also apparently have a duplicate date that we will have to deal with. Let's investigate this in more detail"
   ]
  },
  {
   "cell_type": "code",
   "execution_count": 19,
   "metadata": {},
   "outputs": [
    {
     "data": {
      "text/html": [
       "<div>\n",
       "<style scoped>\n",
       "    .dataframe tbody tr th:only-of-type {\n",
       "        vertical-align: middle;\n",
       "    }\n",
       "\n",
       "    .dataframe tbody tr th {\n",
       "        vertical-align: top;\n",
       "    }\n",
       "\n",
       "    .dataframe thead th {\n",
       "        text-align: right;\n",
       "    }\n",
       "</style>\n",
       "<table border=\"1\" class=\"dataframe\">\n",
       "  <thead>\n",
       "    <tr style=\"text-align: right;\">\n",
       "      <th></th>\n",
       "      <th>Sample Value</th>\n",
       "    </tr>\n",
       "    <tr>\n",
       "      <th>datetime</th>\n",
       "      <th></th>\n",
       "    </tr>\n",
       "  </thead>\n",
       "  <tbody>\n",
       "    <tr>\n",
       "      <th>2017-06-06 23:00:00</th>\n",
       "      <td>11.0</td>\n",
       "    </tr>\n",
       "    <tr>\n",
       "      <th>2017-06-06 23:00:00</th>\n",
       "      <td>10.0</td>\n",
       "    </tr>\n",
       "    <tr>\n",
       "      <th>2017-06-07 00:00:00</th>\n",
       "      <td>17.0</td>\n",
       "    </tr>\n",
       "    <tr>\n",
       "      <th>2017-06-07 01:00:00</th>\n",
       "      <td>12.0</td>\n",
       "    </tr>\n",
       "    <tr>\n",
       "      <th>2017-06-07 02:00:00</th>\n",
       "      <td>7.0</td>\n",
       "    </tr>\n",
       "  </tbody>\n",
       "</table>\n",
       "</div>"
      ],
      "text/plain": [
       "                     Sample Value\n",
       "datetime                         \n",
       "2017-06-06 23:00:00          11.0\n",
       "2017-06-06 23:00:00          10.0\n",
       "2017-06-07 00:00:00          17.0\n",
       "2017-06-07 01:00:00          12.0\n",
       "2017-06-07 02:00:00           7.0"
      ]
     },
     "execution_count": 19,
     "metadata": {},
     "output_type": "execute_result"
    }
   ],
   "source": [
    "samples['2017-06-06 23:00:00':].head()"
   ]
  },
  {
   "cell_type": "markdown",
   "metadata": {},
   "source": [
    "We'll just remove the second one since the values are so close."
   ]
  },
  {
   "cell_type": "code",
   "execution_count": 20,
   "metadata": {},
   "outputs": [],
   "source": [
    "samples = samples.loc[~samples.index.duplicated(keep='first')]"
   ]
  },
  {
   "cell_type": "markdown",
   "metadata": {},
   "source": [
    "Finally, we remove the single null value"
   ]
  },
  {
   "cell_type": "code",
   "execution_count": 21,
   "metadata": {},
   "outputs": [],
   "source": [
    "samples = samples.loc[~samples.index.isna()]"
   ]
  },
  {
   "cell_type": "markdown",
   "metadata": {},
   "source": [
    "Now, after all of this cleaning we can finally interpolate our missing values with the linear spline. We'll be rounding to the nearest whole number here because the none of the given readings have decimal points. We'll first plot the values before assigning them to make sure that nothing looks weird."
   ]
  },
  {
   "cell_type": "code",
   "execution_count": 22,
   "metadata": {},
   "outputs": [
    {
     "data": {
      "text/plain": [
       "<matplotlib.axes._subplots.AxesSubplot at 0x1902e39d400>"
      ]
     },
     "execution_count": 22,
     "metadata": {},
     "output_type": "execute_result"
    },
    {
     "data": {
      "image/png": "[encoded data removed]",
      "text/plain": [
       "<Figure size 1080x576 with 1 Axes>"
      ]
     },
     "metadata": {
      "needs_background": "light"
     },
     "output_type": "display_data"
    }
   ],
   "source": [
    "samples.interpolate(method='time').round(0).plot(figsize=(15,8))"
   ]
  },
  {
   "cell_type": "markdown",
   "metadata": {},
   "source": [
    "Looks good!"
   ]
  },
  {
   "cell_type": "code",
   "execution_count": 23,
   "metadata": {},
   "outputs": [],
   "source": [
    "samples = samples.interpolate(method='time').round(0)"
   ]
  },
  {
   "cell_type": "markdown",
   "metadata": {},
   "source": [
    "### Modelling"
   ]
  },
  {
   "cell_type": "markdown",
   "metadata": {},
   "source": [
    "The LSTM model working by learning a function that will map a sequence of previous observations to future observation. In order to facilitate this process, we'll define a helper function which will take a sequence of observations and split it into samples that the LSTM model will learn from"
   ]
  },
  {
   "cell_type": "code",
   "execution_count": 24,
   "metadata": {},
   "outputs": [],
   "source": [
    "# split a univariate sequence into samples\n",
    "def split_sequence(sequence, n_steps):\n",
    "    X, y = list(), list()\n",
    "    for i in range(len(sequence)):\n",
    "        # find the end of this pattern\n",
    "        end_ix = i + n_steps\n",
    "        # check if we are beyond the sequence\n",
    "        if end_ix > len(sequence)-1:\n",
    "            break\n",
    "        # gather input and output parts of the pattern\n",
    "        seq_x, seq_y = sequence[i:end_ix], sequence[end_ix]\n",
    "        X.append(seq_x)\n",
    "        y.append(seq_y)\n",
    "    return np.array(X), np.array(y)"
   ]
  },
  {
   "cell_type": "code",
   "execution_count": 25,
   "metadata": {},
   "outputs": [],
   "source": [
    "# Splitting the time series into sequences\n",
    "# Using 96 hours of prior observations as the training set for a single step ahead\n",
    "n_steps = 96\n",
    "X, y = split_sequence(samples['2019':]['Sample Value'], n_steps)"
   ]
  },
  {
   "cell_type": "markdown",
   "metadata": {},
   "source": [
    "#### Feature Scaling\n",
    "\n",
    "We'll use a min-max scaler to scale the data, as the neural network will not be able to handle large differences in the concentration readings."
   ]
  },
  {
   "cell_type": "code",
   "execution_count": 26,
   "metadata": {},
   "outputs": [],
   "source": [
    "from sklearn.preprocessing import MinMaxScaler\n",
    "\n",
    "scaler = MinMaxScaler()\n",
    "X = np.array([scaler.fit_transform(X[i,:].reshape(-1,1)) for i in range(X.shape[0])])"
   ]
  },
  {
   "cell_type": "markdown",
   "metadata": {},
   "source": [
    "### Building the Model with Keras"
   ]
  },
  {
   "cell_type": "code",
   "execution_count": 27,
   "metadata": {},
   "outputs": [
    {
     "name": "stderr",
     "output_type": "stream",
     "text": [
      "Using TensorFlow backend.\n",
      "ERROR:root:Internal Python error in the inspect module.\n",
      "Below is the traceback from this internal error.\n",
      "\n",
      "\n",
      "KeyboardInterrupt\n",
      "\n"
     ]
    }
   ],
   "source": [
    "from keras.models import Sequential\n",
    "from keras.layers import LSTM\n",
    "from keras.layers import Dense\n",
    "\n",
    "# Reshape X so that it represents a single feature\n",
    "n_features = 1\n",
    "X = X.reshape((X.shape[0], X.shape[1], n_features))\n",
    "# Define the model\n",
    "model = Sequential()\n",
    "model.add(LSTM(25, activation='relu', return_sequences=True, input_shape=(n_steps, n_features)))\n",
    "model.add(LSTM(10, activation='relu'))\n",
    "model.add(Dense(1))\n",
    "model.compile(optimizer='adam', loss='mse')\n",
    "# Fit the model\n",
    "model.fit(X, y, epochs=10, verbose=1)"
   ]
  },
  {
   "cell_type": "code",
   "execution_count": null,
   "metadata": {},
   "outputs": [],
   "source": [
    "X_input = X[0]\n",
    "X_input = X_input.reshape((1, n_steps, n_features))\n",
    "y_hat = model.predict(X_input, verbose=0)"
   ]
  },
  {
   "cell_type": "code",
   "execution_count": 137,
   "metadata": {},
   "outputs": [
    {
     "name": "stdout",
     "output_type": "stream",
     "text": [
      "26.0, 4.790697\n"
     ]
    }
   ],
   "source": [
    "print(y[0], y_hat[0,0], sep=', ')"
   ]
  },
  {
   "cell_type": "markdown",
   "metadata": {},
   "source": [
    "Clearly, the univariate model is not complex enough to correctly predict the PM10 readings from the S.H Bell site. In the next iteration of work, we need to think about including all of the available weather data from this site."
   ]
  },
  {
   "cell_type": "markdown",
   "metadata": {},
   "source": [
    "## Multivariate LSTM Forecasting Preparation\n",
    "\n",
    "We'll now try to do some time series forecasting using all of the available meteorological data. If we need it, more information such as humidity, dew point, etc. can be obtained from the NOAA api.\n",
    "\n",
    "First, we'll have to clean and organize our currently available meteorological data and combine it into a single Dataframe."
   ]
  },
  {
   "cell_type": "code",
   "execution_count": 190,
   "metadata": {},
   "outputs": [],
   "source": [
    "from os import listdir\n",
    "from os.path import isfile, join\n",
    "files = [f for f in listdir('./data/meteorological/') if isfile(join('./data/meteorological/', f))]\n",
    "met_dfs = [pd.read_csv(f'data/meteorological/{file}') for file in files]"
   ]
  },
  {
   "cell_type": "code",
   "execution_count": 191,
   "metadata": {},
   "outputs": [],
   "source": [
    "# Dropping the 'Unnamed: 0' column\n",
    "for df in met_dfs:\n",
    "    if 'Unnamed: 0' in df.columns:\n",
    "        df.drop(columns='Unnamed: 0', inplace=True)"
   ]
  },
  {
   "cell_type": "code",
   "execution_count": 197,
   "metadata": {},
   "outputs": [],
   "source": [
    "met_dfs[1].drop(columns='44', inplace=True)"
   ]
  },
  {
   "cell_type": "code",
   "execution_count": 198,
   "metadata": {
    "collapsed": true,
    "jupyter": {
     "outputs_hidden": true
    }
   },
   "outputs": [
    {
     "name": "stdout",
     "output_type": "stream",
     "text": [
      "0 10\n",
      "1 10\n",
      "2 10\n",
      "3 10\n",
      "4 10\n",
      "5 10\n",
      "6 10\n",
      "7 10\n",
      "8 10\n",
      "9 10\n",
      "10 10\n",
      "11 10\n",
      "12 10\n",
      "13 10\n",
      "14 10\n",
      "15 10\n",
      "16 10\n",
      "17 10\n",
      "18 10\n",
      "19 10\n",
      "20 10\n",
      "21 10\n",
      "22 10\n",
      "23 10\n",
      "24 10\n",
      "25 10\n",
      "26 10\n",
      "27 10\n",
      "28 10\n",
      "29 10\n",
      "30 10\n",
      "31 10\n"
     ]
    }
   ],
   "source": [
    "for i, df in enumerate(met_dfs):\n",
    "    print(i, len(df.columns))"
   ]
  },
  {
   "cell_type": "code",
   "execution_count": 77,
   "metadata": {},
   "outputs": [],
   "source": [
    "met_dfs[0].columns = met_dfs[5].columns"
   ]
  },
  {
   "cell_type": "code",
   "execution_count": 199,
   "metadata": {},
   "outputs": [],
   "source": [
    "# Make sure that all of the column names are the same\n",
    "for i in range(len(met_dfs)):\n",
    "    if False in (met_dfs[0].columns == met_dfs[i].columns):\n",
    "        met_dfs[i].columns = met_dfs[0].columns"
   ]
  },
  {
   "cell_type": "code",
   "execution_count": 200,
   "metadata": {},
   "outputs": [],
   "source": [
    "meteor_df = pd.concat(met_dfs, axis=0)\n",
    "meteor_df.set_index('TIMESTAMP', inplace=True)\n",
    "meteor_df.index = pd.to_datetime(meteor_df.index, infer_datetime_format=True)\n",
    "meteor_df.sort_index(inplace=True)"
   ]
  },
  {
   "cell_type": "code",
   "execution_count": 201,
   "metadata": {},
   "outputs": [
    {
     "name": "stdout",
     "output_type": "stream",
     "text": [
      "RECORD             0\n",
      "AWS Mph WVc        0\n",
      "AWD Deg WVc        0\n",
      "SIG Deg WVc        0\n",
      "Gust Mph Max       0\n",
      "AvgT Deg_F Avg     0\n",
      "ABP InHg Avg       0\n",
      "Ltemp Deg_F Max    0\n",
      "Batt Vdc Min       0\n",
      "dtype: int64\n",
      "0\n"
     ]
    }
   ],
   "source": [
    "# Check for missing values\n",
    "print(meteor_df.isna().sum())\n",
    "print(meteor_df.index.isna().sum())"
   ]
  },
  {
   "cell_type": "markdown",
   "metadata": {},
   "source": [
    "Since we're only looking at time spans of an hour, we probably aren't going to need the maximum temperature as it isn't going to deviate much from the average temperature. We're also going to drop the battery voltage as it doesn't seem like it should be important for determining PM10 concentrations."
   ]
  },
  {
   "cell_type": "code",
   "execution_count": 202,
   "metadata": {},
   "outputs": [],
   "source": [
    "# Dropping some columns\n",
    "meteor_df.drop(columns=['RECORD', 'Ltemp Deg_F Max', 'Batt Vdc Min'], inplace=True)"
   ]
  },
  {
   "cell_type": "code",
   "execution_count": 203,
   "metadata": {},
   "outputs": [],
   "source": [
    "meteor_df = meteor_df[~meteor_df.eq('AT').any(1)]\n",
    "meteor_df = meteor_df[~meteor_df.eq('AQ').any(1)]\n",
    "meteor_df = meteor_df[~meteor_df.eq('AZ').any(1)]"
   ]
  },
  {
   "cell_type": "code",
   "execution_count": 204,
   "metadata": {},
   "outputs": [],
   "source": [
    "meteor_df = meteor_df.astype(float)"
   ]
  },
  {
   "cell_type": "code",
   "execution_count": 205,
   "metadata": {},
   "outputs": [],
   "source": [
    "# Saving the meteorological dataframe to make it easier to access in the future.\n",
    "meteor_df.to_csv('./data/meteorological/combined_clean_met_df.csv')"
   ]
  },
  {
   "cell_type": "code",
   "execution_count": 206,
   "metadata": {},
   "outputs": [],
   "source": [
    "# Combining the final Dataframes\n",
    "meteor_and_sample_df = meteor_df.merge(samples, left_index=True, right_index=True)"
   ]
  },
  {
   "cell_type": "code",
   "execution_count": 207,
   "metadata": {},
   "outputs": [],
   "source": [
    "# Saving it as a csv for future use.\n",
    "meteor_and_sample_df.to_csv('./data/combined_meteor_and_sample.csv')"
   ]
  },
  {
   "cell_type": "code",
   "execution_count": 208,
   "metadata": {},
   "outputs": [
    {
     "data": {
      "text/plain": [
       "<matplotlib.axes._subplots.AxesSubplot at 0x19045d0db38>"
      ]
     },
     "execution_count": 208,
     "metadata": {},
     "output_type": "execute_result"
    },
    {
     "data": {
      "image/png": "[encoded data removed]",
      "text/plain": [
       "<Figure size 1080x576 with 1 Axes>"
      ]
     },
     "metadata": {
      "needs_background": "light"
     },
     "output_type": "display_data"
    }
   ],
   "source": [
    "meteor_and_sample_df['Sample Value'].plot(figsize=(15,8))"
   ]
  },
  {
   "cell_type": "code",
   "execution_count": 210,
   "metadata": {},
   "outputs": [
    {
     "data": {
      "text/plain": [
       "array([[  5.989, 356.4  ,  24.12 , ...,  38.74 ,  29.41 ,   4.   ],\n",
       "       [  5.059, 348.   ,  22.69 , ...,  39.46 ,  29.44 ,   6.   ],\n",
       "       [  5.39 , 359.3  ,  19.98 , ...,  39.08 ,  29.45 ,   7.   ],\n",
       "       ...,\n",
       "       [  4.087,  91.3  ,  19.48 , ...,  39.04 ,  29.55 ,   6.   ],\n",
       "       [  5.912,  93.1  ,  18.   , ...,  38.71 ,  29.5  ,  10.   ],\n",
       "       [  5.519, 105.   ,  23.29 , ...,  38.42 ,  29.47 ,  16.   ]])"
      ]
     },
     "execution_count": 210,
     "metadata": {},
     "output_type": "execute_result"
    }
   ],
   "source": []
  },
  {
   "cell_type": "code",
   "execution_count": null,
   "metadata": {},
   "outputs": [],
   "source": []
  }
 ],
 "metadata": {
  "kernelspec": {
   "display_name": "Python 3",
   "language": "python",
   "name": "python3"
  },
  "language_info": {
   "codemirror_mode": {
    "name": "ipython",
    "version": 3
   },
   "file_extension": ".py",
   "mimetype": "text/x-python",
   "name": "python",
   "nbconvert_exporter": "python",
   "pygments_lexer": "ipython3",
   "version": "3.5.3"
  }
 },
 "nbformat": 4,
 "nbformat_minor": 4
}
